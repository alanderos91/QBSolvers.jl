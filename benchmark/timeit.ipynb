{
 "cells": [
  {
   "cell_type": "code",
   "execution_count": 1,
   "id": "96cba300",
   "metadata": {},
   "outputs": [
    {
     "name": "stderr",
     "output_type": "stream",
     "text": [
      "\u001b[32m\u001b[1m  Activating\u001b[22m\u001b[39m project at `~/Documents/Dev/Workspaces/ParallelLeastSquares/benchmark`\n"
     ]
    },
    {
     "name": "stdout",
     "output_type": "stream",
     "text": [
      "\u001b[32m\u001b[1mStatus\u001b[22m\u001b[39m `~/Documents/Dev/Workspaces/ParallelLeastSquares/benchmark/Project.toml`\n",
      "  \u001b[90m[6e4b80f9] \u001b[39mBenchmarkTools v1.6.0\n",
      "  \u001b[90m[8e7c35d0] \u001b[39mBlockArrays v1.6.3\n",
      "  \u001b[90m[0a1fb500] \u001b[39mBlockDiagonals v0.2.0\n",
      "  \u001b[90m[a93c6f00] \u001b[39mDataFrames v1.7.0\n",
      "  \u001b[90m[31c24e10] \u001b[39mDistributions v0.25.120\n",
      "  \u001b[90m[42fd0dbc] \u001b[39mIterativeSolvers v0.9.4\n",
      "  \u001b[90m[9df87fff] \u001b[39mMMDeweighting v1.0.0-DEV `https://github.com/qhengncsu/MMDeweighting.jl#main`\n",
      "  \u001b[90m[08abe8d2] \u001b[39mPrettyTables v2.4.0\n",
      "  \u001b[90m[5d646e68] \u001b[39mQBSolvers v0.1.0 `..`\n",
      "  \u001b[90m[6f49c342] \u001b[39mRCall v0.14.8\n",
      "  \u001b[90m[37e2e46d] \u001b[39mLinearAlgebra\n",
      "  \u001b[90m[10745b16] \u001b[39mStatistics v1.10.0\n"
     ]
    }
   ],
   "source": [
    "import Pkg\n",
    "if \"MKL\" in keys(Pkg.project().dependencies)\n",
    "  using MKL\n",
    "end\n",
    "Pkg.activate(pwd())\n",
    "Pkg.instantiate()\n",
    "Pkg.status()"
   ]
  },
  {
   "cell_type": "code",
   "execution_count": 2,
   "id": "a88dd2ce",
   "metadata": {},
   "outputs": [
    {
     "name": "stdout",
     "output_type": "stream",
     "text": [
      "Julia Version 1.10.9\n",
      "Commit 5595d20a287 (2025-03-10 12:51 UTC)\n",
      "Build Info:\n",
      "  Official https://julialang.org/ release\n",
      "Platform Info:\n",
      "  OS: Linux (x86_64-linux-gnu)\n",
      "  CPU: 20 × Intel(R) Core(TM) i9-10900KF CPU @ 3.70GHz\n",
      "  WORD_SIZE: 64\n",
      "  LIBM: libopenlibm\n",
      "  LLVM: libLLVM-15.0.7 (ORCJIT, skylake)\n",
      "Threads: 1 default, 0 interactive, 1 GC (on 20 virtual cores)\n"
     ]
    }
   ],
   "source": [
    "versioninfo()"
   ]
  },
  {
   "cell_type": "code",
   "execution_count": 3,
   "id": "fb7b4aaa",
   "metadata": {},
   "outputs": [],
   "source": [
    "using QBSolvers, LinearAlgebra, Distributions, Statistics"
   ]
  },
  {
   "cell_type": "markdown",
   "id": "ee4b1b05",
   "metadata": {},
   "source": [
    "# OLS"
   ]
  },
  {
   "cell_type": "code",
   "execution_count": 4,
   "id": "13976023",
   "metadata": {},
   "outputs": [
    {
     "data": {
      "text/plain": [
       "1024"
      ]
     },
     "metadata": {},
     "output_type": "display_data"
    }
   ],
   "source": [
    "n, p = 16*512, 2*512;\n",
    "Σ = [(0.8)^abs(i-j) for i in 1:p, j in 1:p];\n",
    "A = Transpose(rand(MvNormal(zeros(p), Σ), n)) |> Matrix;\n",
    "x0 = 0.1*ones(p);\n",
    "b = A*x0 + 1/sqrt(p)*randn(n);\n",
    "x_init = zeros(p)\n",
    "λ = 1e3\n",
    "n_blk = p"
   ]
  },
  {
   "cell_type": "markdown",
   "id": "33e876ac",
   "metadata": {},
   "source": [
    "## QUB"
   ]
  },
  {
   "cell_type": "code",
   "execution_count": 5,
   "id": "a747353a",
   "metadata": {},
   "outputs": [
    {
     "data": {
      "text/plain": [
       "\u001b[0m\u001b[1m────────────────────────────────────────────────────────────────────────────────\u001b[22m\n",
       "\u001b[0m\u001b[1m                              \u001b[22m         Time                    Allocations      \n",
       "                              ───────────────────────   ────────────────────────\n",
       "      Tot / % measured:            544ms /  38.2%           46.0MiB /  27.2%    \n",
       "\n",
       "Section               ncalls     time    %tot     avg     alloc    %tot      avg\n",
       "────────────────────────────────────────────────────────────────────────────────\n",
       "OLS Loop                   1    122ms   58.9%   122ms   2.38MiB   19.1%  2.38MiB\n",
       "  update gₙ               99   1.95ms    0.9%  19.7μs     0.00B    0.0%    0.00B\n",
       "  dₙ₊₁ = H⁻¹gₙ            99   95.0μs    0.0%   959ns     0.00B    0.0%    0.00B\n",
       "  convergence check      100   35.8μs    0.0%   358ns     0.00B    0.0%    0.00B\n",
       "  update xₙ₊₁             99   19.7μs    0.0%   199ns     0.00B    0.0%    0.00B\n",
       "init recurrences           1   61.7ms   29.7%  61.7ms   1.87MiB   15.0%  1.87MiB\n",
       "  compute -∇₀              1   1.89ms    0.9%  1.89ms     0.00B    0.0%    0.00B\n",
       "  compute d₁               1   1.78μs    0.0%  1.78μs     0.00B    0.0%    0.00B\n",
       "  compute x₁               1    696ns    0.0%   696ns     0.00B    0.0%    0.00B\n",
       "init AtA + λI; gra...      1   18.1ms    8.7%  18.1ms   8.00MiB   64.0%  8.00MiB\n",
       "Diag, normalize = ...      1   3.56ms    1.7%  3.56ms    151KiB    1.2%   151KiB\n",
       "  spectral radius          1   3.55ms    1.7%  3.55ms    141KiB    1.1%   141KiB\n",
       "  init                     1   3.99μs    0.0%  3.99μs   8.20KiB    0.1%  8.20KiB\n",
       "compute residual           1   1.90ms    0.9%  1.90ms   64.0KiB    0.5%  64.0KiB\n",
       "init workspace             1   25.2μs    0.0%  25.2μs   32.9KiB    0.3%  32.9KiB\n",
       "summary                    1   24.9μs    0.0%  24.9μs      416B    0.0%     416B\n",
       "\u001b[0m\u001b[1m────────────────────────────────────────────────────────────────────────────────\u001b[22m"
      ]
     },
     "metadata": {},
     "output_type": "display_data"
    },
    {
     "data": {
      "text/plain": [
       "\u001b[0m\u001b[1m────────────────────────────────────────────────────────────────────────────────\u001b[22m\n",
       "\u001b[0m\u001b[1m                              \u001b[22m         Time                    Allocations      \n",
       "                              ───────────────────────   ────────────────────────\n",
       "      Tot / % measured:           35.4ms /  99.9%           8.15MiB /  99.9%    \n",
       "\n",
       "Section               ncalls     time    %tot     avg     alloc    %tot      avg\n",
       "────────────────────────────────────────────────────────────────────────────────\n",
       "init AtA + λI; gra...      1   19.9ms   56.4%  19.9ms   8.00MiB   98.3%  8.00MiB\n",
       "OLS Loop                   1   11.8ms   33.4%  11.8ms   3.09KiB    0.0%  3.09KiB\n",
       "  update gₙ              607   10.7ms   30.2%  17.6μs     0.00B    0.0%    0.00B\n",
       "  dₙ₊₁ = H⁻¹gₙ           607    576μs    1.6%   949ns     0.00B    0.0%    0.00B\n",
       "  convergence check      608    208μs    0.6%   341ns     0.00B    0.0%    0.00B\n",
       "  update xₙ₊₁            607    112μs    0.3%   184ns     0.00B    0.0%    0.00B\n",
       "init recurrences           1   1.77ms    5.0%  1.77ms   2.22KiB    0.0%  2.22KiB\n",
       "  compute -∇₀              1   1.76ms    5.0%  1.76ms     0.00B    0.0%    0.00B\n",
       "  compute d₁               1   1.68μs    0.0%  1.68μs     0.00B    0.0%    0.00B\n",
       "  compute x₁               1    578ns    0.0%   578ns     0.00B    0.0%    0.00B\n",
       "compute residual           1   1.67ms    4.7%  1.67ms   64.0KiB    0.8%  64.0KiB\n",
       "Diag, normalize = ...      1    137μs    0.4%   137μs   43.1KiB    0.5%  43.1KiB\n",
       "  spectral radius          1    131μs    0.4%   131μs   33.4KiB    0.4%  33.4KiB\n",
       "  init                     1   4.14μs    0.0%  4.14μs   8.20KiB    0.1%  8.20KiB\n",
       "init workspace             1   22.7μs    0.1%  22.7μs   32.9KiB    0.4%  32.9KiB\n",
       "summary                    1   12.0μs    0.0%  12.0μs      224B    0.0%     224B\n",
       "\u001b[0m\u001b[1m────────────────────────────────────────────────────────────────────────────────\u001b[22m"
      ]
     },
     "metadata": {},
     "output_type": "display_data"
    },
    {
     "name": "stdout",
     "output_type": "stream",
     "text": [
      "  6.779078 seconds (13.28 M allocations: 867.589 MiB, 4.57% gc time, 99.63% compilation time)\n",
      "  0.035539 seconds (999 allocations: 8.226 MiB)\n"
     ]
    }
   ],
   "source": [
    "x, r, stats = @time solve_OLS(A, b, x_init, n_blk; maxiter=10^2, use_qub=true, gtol=1e-4, lambda=λ, gram=true);\n",
    "x, r, stats = @time solve_OLS(A, b, x_init, n_blk; maxiter=10^4, use_qub=true, gtol=1e-4, lambda=λ, gram=true);"
   ]
  },
  {
   "cell_type": "markdown",
   "id": "8f15a1b7",
   "metadata": {},
   "source": [
    "## L-BFGS, no preconditioner"
   ]
  },
  {
   "cell_type": "code",
   "execution_count": 6,
   "id": "9a12017e",
   "metadata": {},
   "outputs": [
    {
     "data": {
      "text/plain": [
       "\u001b[0m\u001b[1m────────────────────────────────────────────────────────────────────────────────\u001b[22m\n",
       "\u001b[0m\u001b[1m                              \u001b[22m         Time                    Allocations      \n",
       "                              ───────────────────────   ────────────────────────\n",
       "      Tot / % measured:           36.9ms /  99.9%           8.27MiB /  99.9%    \n",
       "\n",
       "Section               ncalls     time    %tot     avg     alloc    %tot      avg\n",
       "────────────────────────────────────────────────────────────────────────────────\n",
       "init AtA + λI; gra...      1   30.2ms   81.9%  30.2ms   8.00MiB   96.8%  8.00MiB\n",
       "OLS Loop                   1   4.99ms   13.5%  4.99ms   7.34KiB    0.1%  7.34KiB\n",
       "  w = (AᵀA+λI)dₙ₊₁       100   2.29ms    6.2%  22.9μs     0.00B    0.0%    0.00B\n",
       "  init gradient            1   1.87ms    5.1%  1.87ms     0.00B    0.0%    0.00B\n",
       "  compute dₙ₊₁           100    541μs    1.5%  5.41μs     0.00B    0.0%    0.00B\n",
       "  update L-BFGS cache    100   67.1μs    0.2%   671ns     0.00B    0.0%    0.00B\n",
       "  backtracking lin...    100   40.9μs    0.1%   409ns     0.00B    0.0%    0.00B\n",
       "  check convergence      100   35.7μs    0.1%   357ns     0.00B    0.0%    0.00B\n",
       "  save prev gradient     100   23.6μs    0.1%   236ns     0.00B    0.0%    0.00B\n",
       "  update xₙ₊₁            100   20.8μs    0.1%   208ns     0.00B    0.0%    0.00B\n",
       "  update gradient        100   18.8μs    0.1%   188ns     0.00B    0.0%    0.00B\n",
       "  convergence check        1   2.24μs    0.0%  2.24μs     0.00B    0.0%    0.00B\n",
       "compute residual           1   1.67ms    4.5%  1.67ms   64.0KiB    0.8%  64.0KiB\n",
       "init workspace             1   16.8μs    0.0%  16.8μs    201KiB    2.4%   201KiB\n",
       "summary                    1   7.77μs    0.0%  7.77μs     0.00B    0.0%    0.00B\n",
       "\u001b[0m\u001b[1m────────────────────────────────────────────────────────────────────────────────\u001b[22m"
      ]
     },
     "metadata": {},
     "output_type": "display_data"
    },
    {
     "data": {
      "text/plain": [
       "\u001b[0m\u001b[1m────────────────────────────────────────────────────────────────────────────────\u001b[22m\n",
       "\u001b[0m\u001b[1m                              \u001b[22m         Time                    Allocations      \n",
       "                              ───────────────────────   ────────────────────────\n",
       "      Tot / % measured:           44.3ms /  99.9%           8.27MiB /  99.9%    \n",
       "\n",
       "Section               ncalls     time    %tot     avg     alloc    %tot      avg\n",
       "────────────────────────────────────────────────────────────────────────────────\n",
       "init AtA + λI; gra...      1   29.6ms   66.9%  29.6ms   8.00MiB   96.8%  8.00MiB\n",
       "OLS Loop                   1   12.7ms   28.7%  12.7ms   7.34KiB    0.1%  7.34KiB\n",
       "  w = (AᵀA+λI)dₙ₊₁       385   7.39ms   16.7%  19.2μs     0.00B    0.0%    0.00B\n",
       "  compute dₙ₊₁           385   2.37ms    5.3%  6.14μs     0.00B    0.0%    0.00B\n",
       "  init gradient            1   1.78ms    4.0%  1.78ms     0.00B    0.0%    0.00B\n",
       "  update L-BFGS cache    385    268μs    0.6%   695ns     0.00B    0.0%    0.00B\n",
       "  backtracking lin...    385    160μs    0.4%   414ns     0.00B    0.0%    0.00B\n",
       "  check convergence      385    151μs    0.3%   393ns     0.00B    0.0%    0.00B\n",
       "  save prev gradient     385   97.0μs    0.2%   252ns     0.00B    0.0%    0.00B\n",
       "  update xₙ₊₁            385   96.1μs    0.2%   250ns     0.00B    0.0%    0.00B\n",
       "  update gradient        385   73.6μs    0.2%   191ns     0.00B    0.0%    0.00B\n",
       "  convergence check        1   2.39μs    0.0%  2.39μs     0.00B    0.0%    0.00B\n",
       "compute residual           1   1.96ms    4.4%  1.96ms   64.0KiB    0.8%  64.0KiB\n",
       "init workspace             1   13.7μs    0.0%  13.7μs    201KiB    2.4%   201KiB\n",
       "summary                    1   9.71μs    0.0%  9.71μs     0.00B    0.0%    0.00B\n",
       "\u001b[0m\u001b[1m────────────────────────────────────────────────────────────────────────────────\u001b[22m"
      ]
     },
     "metadata": {},
     "output_type": "display_data"
    },
    {
     "name": "stdout",
     "output_type": "stream",
     "text": [
      "  3.179023 seconds (1.98 M allocations: 133.164 MiB, 0.53% gc time, 98.83% compilation time)\n",
      "  0.044501 seconds (938 allocations: 8.346 MiB)\n"
     ]
    }
   ],
   "source": [
    "x, r, stats = @time solve_OLS_lbfgs(A, b, x_init, n_blk; maxiter=10^2, precond=:none, gtol=1e-4, lambda=λ, gram=true);\n",
    "x, r, stats = @time solve_OLS_lbfgs(A, b, x_init, n_blk; maxiter=10^4, precond=:none, gtol=1e-4, lambda=λ, gram=true);"
   ]
  },
  {
   "cell_type": "code",
   "execution_count": 7,
   "id": "ad97d0f0",
   "metadata": {},
   "outputs": [
    {
     "data": {
      "text/plain": [
       "\u001b[0m\u001b[1m────────────────────────────────────────────────────────────────────────────────\u001b[22m\n",
       "\u001b[0m\u001b[1m                              \u001b[22m         Time                    Allocations      \n",
       "                              ───────────────────────   ────────────────────────\n",
       "      Tot / % measured:           25.9ms /  99.9%           8.31MiB /  99.9%    \n",
       "\n",
       "Section               ncalls     time    %tot     avg     alloc    %tot      avg\n",
       "────────────────────────────────────────────────────────────────────────────────\n",
       "init AtA + λI; gra...      1   19.8ms   76.2%  19.8ms   8.00MiB   96.3%  8.00MiB\n",
       "OLS Loop                   1   4.26ms   16.4%  4.26ms   7.34KiB    0.1%  7.34KiB\n",
       "  init gradient            1   1.73ms    6.7%  1.73ms     0.00B    0.0%    0.00B\n",
       "  w = (AᵀA+λI)dₙ₊₁        93   1.72ms    6.6%  18.4μs     0.00B    0.0%    0.00B\n",
       "  compute dₙ₊₁            93    552μs    2.1%  5.94μs     0.00B    0.0%    0.00B\n",
       "  update L-BFGS cache     93   61.0μs    0.2%   656ns     0.00B    0.0%    0.00B\n",
       "  backtracking lin...     93   35.1μs    0.1%   378ns     0.00B    0.0%    0.00B\n",
       "  check convergence       93   32.8μs    0.1%   353ns     0.00B    0.0%    0.00B\n",
       "  save prev gradient      93   22.6μs    0.1%   243ns     0.00B    0.0%    0.00B\n",
       "  update xₙ₊₁             93   20.4μs    0.1%   219ns     0.00B    0.0%    0.00B\n",
       "  update gradient         93   17.9μs    0.1%   193ns     0.00B    0.0%    0.00B\n",
       "  convergence check        1   1.10μs    0.0%  1.10μs     0.00B    0.0%    0.00B\n",
       "compute residual           1   1.75ms    6.7%  1.75ms   64.0KiB    0.8%  64.0KiB\n",
       "Diag, normalize = ...      1    136μs    0.5%   136μs   43.1KiB    0.5%  43.1KiB\n",
       "  spectral radius          1    131μs    0.5%   131μs   33.4KiB    0.4%  33.4KiB\n",
       "  init                     1   3.55μs    0.0%  3.55μs   8.20KiB    0.1%  8.20KiB\n",
       "init workspace             1   14.4μs    0.1%  14.4μs    201KiB    2.4%   201KiB\n",
       "summary                    1   9.11μs    0.0%  9.11μs     0.00B    0.0%    0.00B\n",
       "\u001b[0m\u001b[1m────────────────────────────────────────────────────────────────────────────────\u001b[22m"
      ]
     },
     "metadata": {},
     "output_type": "display_data"
    },
    {
     "data": {
      "text/plain": [
       "\u001b[0m\u001b[1m────────────────────────────────────────────────────────────────────────────────\u001b[22m\n",
       "\u001b[0m\u001b[1m                              \u001b[22m         Time                    Allocations      \n",
       "                              ───────────────────────   ────────────────────────\n",
       "      Tot / % measured:           24.6ms /  99.9%           8.31MiB /  99.9%    \n",
       "\n",
       "Section               ncalls     time    %tot     avg     alloc    %tot      avg\n",
       "────────────────────────────────────────────────────────────────────────────────\n",
       "init AtA + λI; gra...      1   18.6ms   75.4%  18.6ms   8.00MiB   96.3%  8.00MiB\n",
       "OLS Loop                   1   4.30ms   17.5%  4.30ms   7.34KiB    0.1%  7.34KiB\n",
       "  init gradient            1   1.78ms    7.2%  1.78ms     0.00B    0.0%    0.00B\n",
       "  w = (AᵀA+λI)dₙ₊₁        93   1.71ms    7.0%  18.4μs     0.00B    0.0%    0.00B\n",
       "  compute dₙ₊₁            93    552μs    2.2%  5.93μs     0.00B    0.0%    0.00B\n",
       "  update L-BFGS cache     93   63.3μs    0.3%   680ns     0.00B    0.0%    0.00B\n",
       "  check convergence       93   32.8μs    0.1%   353ns     0.00B    0.0%    0.00B\n",
       "  backtracking lin...     93   32.2μs    0.1%   346ns     0.00B    0.0%    0.00B\n",
       "  update xₙ₊₁             93   22.5μs    0.1%   242ns     0.00B    0.0%    0.00B\n",
       "  save prev gradient      93   22.3μs    0.1%   240ns     0.00B    0.0%    0.00B\n",
       "  update gradient         93   15.7μs    0.1%   169ns     0.00B    0.0%    0.00B\n",
       "  convergence check        1   1.52μs    0.0%  1.52μs     0.00B    0.0%    0.00B\n",
       "compute residual           1   1.60ms    6.5%  1.60ms   64.0KiB    0.8%  64.0KiB\n",
       "Diag, normalize = ...      1    138μs    0.6%   138μs   43.1KiB    0.5%  43.1KiB\n",
       "  spectral radius          1    133μs    0.5%   133μs   33.4KiB    0.4%  33.4KiB\n",
       "  init                     1   3.30μs    0.0%  3.30μs   8.20KiB    0.1%  8.20KiB\n",
       "init workspace             1   14.0μs    0.1%  14.0μs    201KiB    2.4%   201KiB\n",
       "summary                    1   7.67μs    0.0%  7.67μs     0.00B    0.0%    0.00B\n",
       "\u001b[0m\u001b[1m────────────────────────────────────────────────────────────────────────────────\u001b[22m"
      ]
     },
     "metadata": {},
     "output_type": "display_data"
    },
    {
     "name": "stdout",
     "output_type": "stream",
     "text": [
      "  0.026149 seconds (1.09 k allocations: 8.398 MiB)\n",
      "  0.024826 seconds (1.09 k allocations: 8.398 MiB)\n"
     ]
    }
   ],
   "source": [
    "x, r, stats = @time solve_OLS_lbfgs(A, b, x_init, n_blk; maxiter=10^2, precond=:qub, gtol=1e-4, lambda=λ, gram=true);\n",
    "x, r, stats = @time solve_OLS_lbfgs(A, b, x_init, n_blk; maxiter=10^4, precond=:qub, gtol=1e-4, lambda=λ, gram=true);"
   ]
  },
  {
   "cell_type": "markdown",
   "id": "bc4c7bd1",
   "metadata": {},
   "source": [
    "# QREG"
   ]
  },
  {
   "cell_type": "code",
   "execution_count": 8,
   "id": "9592bfd2",
   "metadata": {},
   "outputs": [],
   "source": [
    "h = QBSolvers.default_bandwidth(A)\n",
    "q = 0.5\n",
    "b = A*x0 + rand(TDist(1.5), n) .- Statistics.quantile(TDist(1.5), q);"
   ]
  },
  {
   "cell_type": "markdown",
   "id": "ca74f236",
   "metadata": {},
   "source": [
    "## QUB"
   ]
  },
  {
   "cell_type": "code",
   "execution_count": 9,
   "id": "0ef49a3a",
   "metadata": {},
   "outputs": [
    {
     "data": {
      "text/plain": [
       "\u001b[0m\u001b[1m────────────────────────────────────────────────────────────────────────────────\u001b[22m\n",
       "\u001b[0m\u001b[1m                              \u001b[22m         Time                    Allocations      \n",
       "                              ───────────────────────   ────────────────────────\n",
       "      Tot / % measured:            950ms / 100.0%           35.0MiB / 100.0%    \n",
       "\n",
       "Section               ncalls     time    %tot     avg     alloc    %tot      avg\n",
       "────────────────────────────────────────────────────────────────────────────────\n",
       "QREG Loop                  1    899ms   94.6%   899ms   26.5MiB   75.8%  26.5MiB\n",
       "  inner solve             28    336ms   35.4%  12.0ms   2.94KiB    0.0%     107B\n",
       "    update gₙ          17.1k    305ms   32.1%  17.9μs     0.00B    0.0%    0.00B\n",
       "    dₙ₊₁ = H⁻¹gₙ       17.1k   16.3ms    1.7%   955ns     0.00B    0.0%    0.00B\n",
       "    convergence check  17.1k   5.63ms    0.6%   329ns     0.00B    0.0%    0.00B\n",
       "    update xₙ₊₁        17.1k   3.32ms    0.3%   194ns     0.00B    0.0%    0.00B\n",
       "  update rₙ = b - Axₙ     28   47.5ms    5.0%  1.70ms     0.00B    0.0%    0.00B\n",
       "  init recurrences        28   46.4ms    4.9%  1.66ms   2.20KiB    0.0%    80.6B\n",
       "    compute -∇₀           28   46.2ms    4.9%  1.65ms     0.00B    0.0%    0.00B\n",
       "    compute d₁            28   45.9μs    0.0%  1.64μs     0.00B    0.0%    0.00B\n",
       "    compute x₁            28   18.5μs    0.0%   660ns     0.00B    0.0%    0.00B\n",
       "  init r₀ = b - Ax₀        1   1.96ms    0.2%  1.96ms     0.00B    0.0%    0.00B\n",
       "  eval objective          29    186μs    0.0%  6.40μs     0.00B    0.0%    0.00B\n",
       "  set RHS u               28    157μs    0.0%  5.60μs     0.00B    0.0%    0.00B\n",
       "  Nesterov accel          28    140μs    0.0%  5.00μs     0.00B    0.0%    0.00B\n",
       "  eval prox               28    123μs    0.0%  4.41μs     0.00B    0.0%    0.00B\n",
       "  check convergenc...     28   8.03μs    0.0%   287ns     0.00B    0.0%    0.00B\n",
       "init x₀ OLS                1   29.1ms    3.1%  29.1ms   44.7KiB    0.1%  44.7KiB\n",
       "  w = (AᵀA+λI)dₙ₊₁       124   2.29ms    0.2%  18.4μs     0.00B    0.0%    0.00B\n",
       "  init gradient            1   1.79ms    0.2%  1.79ms     0.00B    0.0%    0.00B\n",
       "  compute dₙ₊₁           124    752μs    0.1%  6.07μs     0.00B    0.0%    0.00B\n",
       "  update L-BFGS cache    124   80.2μs    0.0%   646ns     0.00B    0.0%    0.00B\n",
       "  backtracking lin...    124   49.4μs    0.0%   398ns     0.00B    0.0%    0.00B\n",
       "  check convergence      124   42.0μs    0.0%   339ns     0.00B    0.0%    0.00B\n",
       "  save prev gradient     124   30.9μs    0.0%   249ns     0.00B    0.0%    0.00B\n",
       "  update xₙ₊₁            124   27.4μs    0.0%   221ns     0.00B    0.0%    0.00B\n",
       "  update gradient        124   20.4μs    0.0%   164ns     0.00B    0.0%    0.00B\n",
       "  convergence check        1   1.37μs    0.0%  1.37μs     0.00B    0.0%    0.00B\n",
       "init AtA + λI; gra...      1   19.9ms    2.1%  19.9ms   8.00MiB   22.8%  8.00MiB\n",
       "summary                    1   2.50ms    0.3%  2.50ms   1.28KiB    0.0%  1.28KiB\n",
       "Diag, normalize = ...      1    132μs    0.0%   132μs   43.1KiB    0.1%  43.1KiB\n",
       "  spectral radius          1    126μs    0.0%   126μs   33.4KiB    0.1%  33.4KiB\n",
       "  init                     1   4.97μs    0.0%  4.97μs   8.20KiB    0.0%  8.20KiB\n",
       "init workspace             1   27.3μs    0.0%  27.3μs    234KiB    0.7%   234KiB\n",
       "init L-BFGS cache          1   7.25μs    0.0%  7.25μs    169KiB    0.5%   169KiB\n",
       "\u001b[0m\u001b[1m────────────────────────────────────────────────────────────────────────────────\u001b[22m"
      ]
     },
     "metadata": {},
     "output_type": "display_data"
    },
    {
     "data": {
      "text/plain": [
       "\u001b[0m\u001b[1m────────────────────────────────────────────────────────────────────────────────\u001b[22m\n",
       "\u001b[0m\u001b[1m                              \u001b[22m         Time                    Allocations      \n",
       "                              ───────────────────────   ────────────────────────\n",
       "      Tot / % measured:            464ms / 100.0%           8.46MiB /  99.9%    \n",
       "\n",
       "Section               ncalls     time    %tot     avg     alloc    %tot      avg\n",
       "────────────────────────────────────────────────────────────────────────────────\n",
       "QREG Loop                  1    439ms   94.5%   439ms   11.9KiB    0.1%  11.9KiB\n",
       "  inner solve             28    344ms   74.1%  12.3ms   2.94KiB    0.0%     107B\n",
       "    update gₙ          17.1k    313ms   67.4%  18.3μs     0.00B    0.0%    0.00B\n",
       "    dₙ₊₁ = H⁻¹gₙ       17.1k   16.5ms    3.6%   968ns     0.00B    0.0%    0.00B\n",
       "    convergence check  17.1k   5.63ms    1.2%   329ns     0.00B    0.0%    0.00B\n",
       "    update xₙ₊₁        17.1k   3.09ms    0.7%   181ns     0.00B    0.0%    0.00B\n",
       "  update rₙ = b - Axₙ     28   47.1ms   10.1%  1.68ms     0.00B    0.0%    0.00B\n",
       "  init recurrences        28   45.6ms    9.8%  1.63ms   2.20KiB    0.0%    80.6B\n",
       "    compute -∇₀           28   45.5ms    9.8%  1.62ms     0.00B    0.0%    0.00B\n",
       "    compute d₁            28   49.4μs    0.0%  1.76μs     0.00B    0.0%    0.00B\n",
       "    compute x₁            28   17.8μs    0.0%   636ns     0.00B    0.0%    0.00B\n",
       "  init r₀ = b - Ax₀        1   1.69ms    0.4%  1.69ms     0.00B    0.0%    0.00B\n",
       "  eval objective          29    188μs    0.0%  6.49μs     0.00B    0.0%    0.00B\n",
       "  set RHS u               28    149μs    0.0%  5.32μs     0.00B    0.0%    0.00B\n",
       "  Nesterov accel          28    139μs    0.0%  4.95μs     0.00B    0.0%    0.00B\n",
       "  eval prox               28    124μs    0.0%  4.41μs     0.00B    0.0%    0.00B\n",
       "  check convergenc...     28   7.27μs    0.0%   260ns     0.00B    0.0%    0.00B\n",
       "init AtA + λI; gra...      1   19.9ms    4.3%  19.9ms   8.00MiB   94.6%  8.00MiB\n",
       "init x₀ OLS                1   5.24ms    1.1%  5.24ms   7.48KiB    0.1%  7.48KiB\n",
       "  w = (AᵀA+λI)dₙ₊₁       124   2.29ms    0.5%  18.5μs     0.00B    0.0%    0.00B\n",
       "  init gradient            1   1.82ms    0.4%  1.82ms     0.00B    0.0%    0.00B\n",
       "  compute dₙ₊₁           124    775μs    0.2%  6.25μs     0.00B    0.0%    0.00B\n",
       "  update L-BFGS cache    124   78.7μs    0.0%   634ns     0.00B    0.0%    0.00B\n",
       "  backtracking lin...    124   54.8μs    0.0%   442ns     0.00B    0.0%    0.00B\n",
       "  check convergence      124   41.9μs    0.0%   338ns     0.00B    0.0%    0.00B\n",
       "  save prev gradient     124   28.3μs    0.0%   228ns     0.00B    0.0%    0.00B\n",
       "  update xₙ₊₁            124   27.5μs    0.0%   221ns     0.00B    0.0%    0.00B\n",
       "  update gradient        124   20.7μs    0.0%   167ns     0.00B    0.0%    0.00B\n",
       "  convergence check        1   1.44μs    0.0%  1.44μs     0.00B    0.0%    0.00B\n",
       "Diag, normalize = ...      1    132μs    0.0%   132μs   43.1KiB    0.5%  43.1KiB\n",
       "  spectral radius          1    127μs    0.0%   127μs   33.4KiB    0.4%  33.4KiB\n",
       "  init                     1   3.31μs    0.0%  3.31μs   8.20KiB    0.1%  8.20KiB\n",
       "init workspace             1   17.1μs    0.0%  17.1μs    234KiB    2.7%   234KiB\n",
       "summary                    1   15.1μs    0.0%  15.1μs      240B    0.0%     240B\n",
       "init L-BFGS cache          1   6.60μs    0.0%  6.60μs    169KiB    1.9%   169KiB\n",
       "\u001b[0m\u001b[1m────────────────────────────────────────────────────────────────────────────────\u001b[22m"
      ]
     },
     "metadata": {},
     "output_type": "display_data"
    },
    {
     "name": "stdout",
     "output_type": "stream",
     "text": [
      "  2.201763 seconds (3.47 M allocations: 239.988 MiB, 1.46% gc time, 79.17% compilation time)\n",
      "  0.464430 seconds (1.92 k allocations: 8.606 MiB)\n"
     ]
    }
   ],
   "source": [
    "x, r, stats = @time solve_QREG(A, b, x_init, n_blk; q=q, h=h, maxiter=10^3, rtol=1e-6, gtol=1e-1, gram=true);\n",
    "x, r, stats = @time solve_QREG(A, b, x_init, n_blk; q=q, h=h, maxiter=10^3, rtol=1e-6, gtol=1e-1, gram=true);"
   ]
  },
  {
   "cell_type": "markdown",
   "id": "adc83f63",
   "metadata": {},
   "source": [
    "## L-BFGS"
   ]
  },
  {
   "cell_type": "code",
   "execution_count": 10,
   "id": "1a512845",
   "metadata": {},
   "outputs": [
    {
     "data": {
      "text/plain": [
       "\u001b[0m\u001b[1m────────────────────────────────────────────────────────────────────────────────\u001b[22m\n",
       "\u001b[0m\u001b[1m                              \u001b[22m         Time                    Allocations      \n",
       "                              ───────────────────────   ────────────────────────\n",
       "      Tot / % measured:            588ms / 100.0%           22.3MiB / 100.0%    \n",
       "\n",
       "Section               ncalls     time    %tot     avg     alloc    %tot      avg\n",
       "────────────────────────────────────────────────────────────────────────────────\n",
       "QREG Loop                  1    552ms   94.0%   552ms   13.9MiB   62.2%  13.9MiB\n",
       "  inner solve             28    104ms   17.7%  3.71ms   7.34KiB    0.0%     269B\n",
       "    init gradient         28   46.0ms    7.8%  1.64ms     0.00B    0.0%    0.00B\n",
       "    w = (AᵀA+λI)dₙ₊₁   1.97k   39.3ms    6.7%  20.0μs     0.00B    0.0%    0.00B\n",
       "    compute dₙ₊₁       1.97k   12.7ms    2.2%  6.43μs     0.00B    0.0%    0.00B\n",
       "    update L-BFGS ...  1.97k   1.38ms    0.2%   699ns     0.00B    0.0%    0.00B\n",
       "    backtracking l...  1.97k    916μs    0.2%   465ns     0.00B    0.0%    0.00B\n",
       "    check convergence  1.97k    711μs    0.1%   361ns     0.00B    0.0%    0.00B\n",
       "    update xₙ₊₁        1.97k    496μs    0.1%   252ns     0.00B    0.0%    0.00B\n",
       "    save prev grad...  1.97k    488μs    0.1%   248ns     0.00B    0.0%    0.00B\n",
       "    update gradient    1.97k    351μs    0.1%   178ns     0.00B    0.0%    0.00B\n",
       "    convergence check     28   46.0μs    0.0%  1.64μs     0.00B    0.0%    0.00B\n",
       "  update rₙ = b - Axₙ     28   46.5ms    7.9%  1.66ms     0.00B    0.0%    0.00B\n",
       "  init r₀ = b - Ax₀        1   1.93ms    0.3%  1.93ms     0.00B    0.0%    0.00B\n",
       "  eval objective          29    185μs    0.0%  6.39μs     0.00B    0.0%    0.00B\n",
       "  set RHS u               28    140μs    0.0%  5.01μs     0.00B    0.0%    0.00B\n",
       "  Nesterov accel          28    134μs    0.0%  4.79μs     0.00B    0.0%    0.00B\n",
       "  eval prox               28    130μs    0.0%  4.65μs     0.00B    0.0%    0.00B\n",
       "  check convergenc...     28   5.84μs    0.0%   208ns     0.00B    0.0%    0.00B\n",
       "init AtA + λI; gra...      1   29.7ms    5.0%  29.7ms   8.00MiB   35.8%  8.00MiB\n",
       "init x₀ OLS                1   5.16ms    0.9%  5.16ms   7.48KiB    0.0%  7.48KiB\n",
       "  w = (AᵀA+λI)dₙ₊₁       124   2.25ms    0.4%  18.2μs     0.00B    0.0%    0.00B\n",
       "  init gradient            1   1.77ms    0.3%  1.77ms     0.00B    0.0%    0.00B\n",
       "  compute dₙ₊₁           124    788μs    0.1%  6.36μs     0.00B    0.0%    0.00B\n",
       "  update L-BFGS cache    124   78.8μs    0.0%   635ns     0.00B    0.0%    0.00B\n",
       "  backtracking lin...    124   53.0μs    0.0%   427ns     0.00B    0.0%    0.00B\n",
       "  check convergence      124   41.4μs    0.0%   334ns     0.00B    0.0%    0.00B\n",
       "  save prev gradient     124   28.2μs    0.0%   228ns     0.00B    0.0%    0.00B\n",
       "  update xₙ₊₁            124   28.0μs    0.0%   226ns     0.00B    0.0%    0.00B\n",
       "  update gradient        124   20.1μs    0.0%   162ns     0.00B    0.0%    0.00B\n",
       "  convergence check        1    769ns    0.0%   769ns     0.00B    0.0%    0.00B\n",
       "init workspace             1    219μs    0.0%   219μs    403KiB    1.8%   403KiB\n",
       "  init L-BFGS cache        1   7.24μs    0.0%  7.24μs    169KiB    0.7%   169KiB\n",
       "Diag, normalize = ...      1    135μs    0.0%   135μs   43.1KiB    0.2%  43.1KiB\n",
       "  spectral radius          1    128μs    0.0%   128μs   33.4KiB    0.1%  33.4KiB\n",
       "  init                     1   5.35μs    0.0%  5.35μs   8.20KiB    0.0%  8.20KiB\n",
       "summary                    1   18.2μs    0.0%  18.2μs      240B    0.0%     240B\n",
       "\u001b[0m\u001b[1m────────────────────────────────────────────────────────────────────────────────\u001b[22m"
      ]
     },
     "metadata": {},
     "output_type": "display_data"
    },
    {
     "data": {
      "text/plain": [
       "\u001b[0m\u001b[1m────────────────────────────────────────────────────────────────────────────────\u001b[22m\n",
       "\u001b[0m\u001b[1m                              \u001b[22m         Time                    Allocations      \n",
       "                              ───────────────────────   ────────────────────────\n",
       "      Tot / % measured:            176ms / 100.0%           8.46MiB /  99.9%    \n",
       "\n",
       "Section               ncalls     time    %tot     avg     alloc    %tot      avg\n",
       "────────────────────────────────────────────────────────────────────────────────\n",
       "QREG Loop                  1    151ms   85.9%   151ms   13.4KiB    0.2%  13.4KiB\n",
       "  inner solve             28    103ms   58.4%  3.67ms   7.34KiB    0.1%     269B\n",
       "    init gradient         28   44.8ms   25.5%  1.60ms     0.00B    0.0%    0.00B\n",
       "    w = (AᵀA+λI)dₙ₊₁   1.97k   39.9ms   22.7%  20.2μs     0.00B    0.0%    0.00B\n",
       "    compute dₙ₊₁       1.97k   12.2ms    6.9%  6.19μs     0.00B    0.0%    0.00B\n",
       "    update L-BFGS ...  1.97k   1.33ms    0.8%   675ns     0.00B    0.0%    0.00B\n",
       "    backtracking l...  1.97k    857μs    0.5%   435ns     0.00B    0.0%    0.00B\n",
       "    check convergence  1.97k    700μs    0.4%   355ns     0.00B    0.0%    0.00B\n",
       "    save prev grad...  1.97k    488μs    0.3%   248ns     0.00B    0.0%    0.00B\n",
       "    update xₙ₊₁        1.97k    477μs    0.3%   242ns     0.00B    0.0%    0.00B\n",
       "    update gradient    1.97k    345μs    0.2%   175ns     0.00B    0.0%    0.00B\n",
       "    convergence check     28   45.3μs    0.0%  1.62μs     0.00B    0.0%    0.00B\n",
       "  update rₙ = b - Axₙ     28   46.0ms   26.2%  1.64ms     0.00B    0.0%    0.00B\n",
       "  init r₀ = b - Ax₀        1   1.82ms    1.0%  1.82ms     0.00B    0.0%    0.00B\n",
       "  eval objective          29    176μs    0.1%  6.08μs     0.00B    0.0%    0.00B\n",
       "  set RHS u               28    140μs    0.1%  5.02μs     0.00B    0.0%    0.00B\n",
       "  Nesterov accel          28    133μs    0.1%  4.76μs     0.00B    0.0%    0.00B\n",
       "  eval prox               28    122μs    0.1%  4.34μs     0.00B    0.0%    0.00B\n",
       "  check convergenc...     28   6.28μs    0.0%   224ns     0.00B    0.0%    0.00B\n",
       "init AtA + λI; gra...      1   19.1ms   10.9%  19.1ms   8.00MiB   94.6%  8.00MiB\n",
       "init x₀ OLS                1   5.37ms    3.1%  5.37ms   7.48KiB    0.1%  7.48KiB\n",
       "  w = (AᵀA+λI)dₙ₊₁       124   2.39ms    1.4%  19.3μs     0.00B    0.0%    0.00B\n",
       "  init gradient            1   1.84ms    1.0%  1.84ms     0.00B    0.0%    0.00B\n",
       "  compute dₙ₊₁           124    772μs    0.4%  6.22μs     0.00B    0.0%    0.00B\n",
       "  update L-BFGS cache    124   80.2μs    0.0%   647ns     0.00B    0.0%    0.00B\n",
       "  backtracking lin...    124   53.9μs    0.0%   435ns     0.00B    0.0%    0.00B\n",
       "  check convergence      124   43.8μs    0.0%   353ns     0.00B    0.0%    0.00B\n",
       "  save prev gradient     124   30.3μs    0.0%   244ns     0.00B    0.0%    0.00B\n",
       "  update xₙ₊₁            124   29.2μs    0.0%   236ns     0.00B    0.0%    0.00B\n",
       "  update gradient        124   20.4μs    0.0%   164ns     0.00B    0.0%    0.00B\n",
       "  convergence check        1   1.33μs    0.0%  1.33μs     0.00B    0.0%    0.00B\n",
       "Diag, normalize = ...      1    160μs    0.1%   160μs   43.1KiB    0.5%  43.1KiB\n",
       "  spectral radius          1    153μs    0.1%   153μs   33.4KiB    0.4%  33.4KiB\n",
       "  init                     1   4.69μs    0.0%  4.69μs   8.20KiB    0.1%  8.20KiB\n",
       "init workspace             1   30.3μs    0.0%  30.3μs    403KiB    4.7%   403KiB\n",
       "  init L-BFGS cache        1   7.80μs    0.0%  7.80μs    169KiB    1.9%   169KiB\n",
       "summary                    1   17.2μs    0.0%  17.2μs      240B    0.0%     240B\n",
       "\u001b[0m\u001b[1m────────────────────────────────────────────────────────────────────────────────\u001b[22m"
      ]
     },
     "metadata": {},
     "output_type": "display_data"
    },
    {
     "name": "stdout",
     "output_type": "stream",
     "text": [
      "  1.493979 seconds (1.89 M allocations: 133.026 MiB, 1.75% gc time, 87.37% compilation time)\n",
      "  0.176127 seconds (2.02 k allocations: 8.628 MiB)\n"
     ]
    }
   ],
   "source": [
    "x, r, stats = @time solve_QREG_lbfgs(A, b, x_init, p; q=q, h=h, maxiter=10^3, rtol=1e-6, gtol=1e-1, gram=true);\n",
    "x, r, stats = @time solve_QREG_lbfgs(A, b, x_init, p; q=q, h=h, maxiter=10^3, rtol=1e-6, gtol=1e-1, gram=true);"
   ]
  }
 ],
 "metadata": {
  "kernelspec": {
   "display_name": "Julia 1.10.9",
   "language": "julia",
   "name": "julia-1.10"
  },
  "language_info": {
   "file_extension": ".jl",
   "mimetype": "application/julia",
   "name": "julia",
   "version": "1.10.9"
  }
 },
 "nbformat": 4,
 "nbformat_minor": 5
}
