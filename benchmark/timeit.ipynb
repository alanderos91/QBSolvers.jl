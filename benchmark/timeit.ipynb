{
 "cells": [
  {
   "cell_type": "code",
   "execution_count": 1,
   "id": "96cba300",
   "metadata": {},
   "outputs": [
    {
     "name": "stderr",
     "output_type": "stream",
     "text": [
      "\u001b[32m\u001b[1m  Activating\u001b[22m\u001b[39m project at `~/Documents/Dev/Workspaces/ParallelLeastSquares/benchmark`\n"
     ]
    },
    {
     "name": "stdout",
     "output_type": "stream",
     "text": [
      "\u001b[32m\u001b[1mStatus\u001b[22m\u001b[39m `~/Documents/Dev/Workspaces/ParallelLeastSquares/benchmark/Project.toml`\n",
      "  \u001b[90m[6e4b80f9] \u001b[39mBenchmarkTools v1.6.0\n",
      "  \u001b[90m[8e7c35d0] \u001b[39mBlockArrays v1.6.3\n",
      "  \u001b[90m[0a1fb500] \u001b[39mBlockDiagonals v0.2.0\n",
      "  \u001b[90m[a93c6f00] \u001b[39mDataFrames v1.7.0\n",
      "  \u001b[90m[31c24e10] \u001b[39mDistributions v0.25.120\n",
      "  \u001b[90m[42fd0dbc] \u001b[39mIterativeSolvers v0.9.4\n",
      "  \u001b[90m[9df87fff] \u001b[39mMMDeweighting v1.0.0-DEV `https://github.com/qhengncsu/MMDeweighting.jl#main`\n",
      "  \u001b[90m[08abe8d2] \u001b[39mPrettyTables v2.4.0\n",
      "  \u001b[90m[5d646e68] \u001b[39mQBSolvers v0.1.0 `..`\n",
      "  \u001b[90m[6f49c342] \u001b[39mRCall v0.14.8\n",
      "  \u001b[90m[37e2e46d] \u001b[39mLinearAlgebra\n",
      "  \u001b[90m[10745b16] \u001b[39mStatistics v1.10.0\n"
     ]
    }
   ],
   "source": [
    "import Pkg\n",
    "if \"MKL\" in keys(Pkg.project().dependencies)\n",
    "  using MKL\n",
    "end\n",
    "Pkg.activate(pwd())\n",
    "Pkg.instantiate()\n",
    "Pkg.status()"
   ]
  },
  {
   "cell_type": "code",
   "execution_count": 2,
   "id": "a88dd2ce",
   "metadata": {},
   "outputs": [
    {
     "name": "stdout",
     "output_type": "stream",
     "text": [
      "Julia Version 1.10.9\n",
      "Commit 5595d20a287 (2025-03-10 12:51 UTC)\n",
      "Build Info:\n",
      "  Official https://julialang.org/ release\n",
      "Platform Info:\n",
      "  OS: Linux (x86_64-linux-gnu)\n",
      "  CPU: 20 × Intel(R) Core(TM) i9-10900KF CPU @ 3.70GHz\n",
      "  WORD_SIZE: 64\n",
      "  LIBM: libopenlibm\n",
      "  LLVM: libLLVM-15.0.7 (ORCJIT, skylake)\n",
      "Threads: 1 default, 0 interactive, 1 GC (on 20 virtual cores)\n"
     ]
    }
   ],
   "source": [
    "versioninfo()"
   ]
  },
  {
   "cell_type": "code",
   "execution_count": 3,
   "id": "fb7b4aaa",
   "metadata": {},
   "outputs": [],
   "source": [
    "using QBSolvers, LinearAlgebra, Distributions, Statistics"
   ]
  },
  {
   "cell_type": "markdown",
   "id": "ee4b1b05",
   "metadata": {},
   "source": [
    "# OLS"
   ]
  },
  {
   "cell_type": "code",
   "execution_count": 4,
   "id": "13976023",
   "metadata": {},
   "outputs": [
    {
     "data": {
      "text/plain": [
       "1024"
      ]
     },
     "execution_count": 4,
     "metadata": {},
     "output_type": "execute_result"
    }
   ],
   "source": [
    "n, p = 16*512, 2*512;\n",
    "Σ = [(0.8)^abs(i-j) for i in 1:p, j in 1:p];\n",
    "A = Transpose(rand(MvNormal(zeros(p), Σ), n)) |> Matrix;\n",
    "x0 = 0.1*ones(p);\n",
    "b = A*x0 + 1/sqrt(p)*randn(n);\n",
    "x_init = zeros(p)\n",
    "λ = 1e3\n",
    "n_blk = p"
   ]
  },
  {
   "cell_type": "markdown",
   "id": "33e876ac",
   "metadata": {},
   "source": [
    "## QUB"
   ]
  },
  {
   "cell_type": "code",
   "execution_count": 5,
   "id": "a747353a",
   "metadata": {},
   "outputs": [
    {
     "data": {
      "text/plain": [
       "\u001b[0m\u001b[1m────────────────────────────────────────────────────────────────────────────────\u001b[22m\n",
       "\u001b[0m\u001b[1m                              \u001b[22m         Time                    Allocations      \n",
       "                              ───────────────────────   ────────────────────────\n",
       "      Tot / % measured:            529ms /   8.0%           9.53MiB /  86.7%    \n",
       "\n",
       "Section               ncalls     time    %tot     avg     alloc    %tot      avg\n",
       "────────────────────────────────────────────────────────────────────────────────\n",
       "init AtA + λI; gra...      1   32.5ms   76.5%  32.5ms   8.00MiB   96.9%  8.00MiB\n",
       "Diag QUB; normaliz...      1   10.0ms   23.5%  10.0ms    261KiB    3.1%   261KiB\n",
       "  OLS loop                 1   6.25ms   14.7%  6.25ms    109KiB    1.3%   109KiB\n",
       "    compute gₙ₊₁          99   2.37ms    5.6%  23.9μs   1.47KiB    0.0%    15.2B\n",
       "      w = (AᵀA+λI)...     99   2.18ms    5.1%  22.0μs     0.00B    0.0%    0.00B\n",
       "      axpy!               99    163μs    0.4%  1.65μs     0.00B    0.0%    0.00B\n",
       "    init workspace         1   1.85ms    4.3%  1.85ms   36.6KiB    0.4%  36.6KiB\n",
       "      compute -∇₀          1   1.77ms    4.2%  1.77ms     0.00B    0.0%    0.00B\n",
       "      compute d₁           1   1.83μs    0.0%  1.83μs     0.00B    0.0%    0.00B\n",
       "      compute x₁           1    699ns    0.0%   699ns     0.00B    0.0%    0.00B\n",
       "    compute residual       1   1.74ms    4.1%  1.74ms   64.0KiB    0.8%  64.0KiB\n",
       "    compute dₙ₊₁          99    192μs    0.5%  1.94μs   1.47KiB    0.0%    15.2B\n",
       "      solve H⋅w = y       99    128μs    0.3%  1.29μs     0.00B    0.0%    0.00B\n",
       "      axpy!               99   41.5μs    0.1%   419ns     0.00B    0.0%    0.00B\n",
       "    check convergence    100   34.6μs    0.1%   346ns     0.00B    0.0%    0.00B\n",
       "    compute xₙ₊₁          99   23.0μs    0.1%   233ns     0.00B    0.0%    0.00B\n",
       "    summary                1   8.60μs    0.0%  8.60μs     0.00B    0.0%    0.00B\n",
       "  spectral radius          1   3.76ms    8.8%  3.76ms    141KiB    1.7%   141KiB\n",
       "  Diag J                   1   5.48μs    0.0%  5.48μs   8.20KiB    0.1%  8.20KiB\n",
       "  Hessian; Diag            1    819ns    0.0%   819ns     0.00B    0.0%    0.00B\n",
       "\u001b[0m\u001b[1m────────────────────────────────────────────────────────────────────────────────\u001b[22m"
      ]
     },
     "metadata": {},
     "output_type": "display_data"
    },
    {
     "name": "stdout",
     "output_type": "stream",
     "text": [
      "  8.569588 seconds (12.51 M allocations: 810.639 MiB, 3.48% gc time, 99.54% compilation time)\n"
     ]
    },
    {
     "data": {
      "text/plain": [
       "\u001b[0m\u001b[1m────────────────────────────────────────────────────────────────────────────────\u001b[22m\n",
       "\u001b[0m\u001b[1m                              \u001b[22m         Time                    Allocations      \n",
       "                              ───────────────────────   ────────────────────────\n",
       "      Tot / % measured:           54.2ms /  99.8%           8.16MiB /  99.8%    \n",
       "\n",
       "Section               ncalls     time    %tot     avg     alloc    %tot      avg\n",
       "────────────────────────────────────────────────────────────────────────────────\n",
       "init AtA + λI; gra...      1   34.6ms   64.0%  34.6ms   8.00MiB   98.2%  8.00MiB\n",
       "Diag QUB; normaliz...      1   19.5ms   36.0%  19.5ms    152KiB    1.8%   152KiB\n",
       "  OLS loop                 1   19.3ms   35.7%  19.3ms    107KiB    1.3%   107KiB\n",
       "    compute gₙ₊₁         592   13.9ms   25.7%  23.5μs   1.47KiB    0.0%    2.54B\n",
       "      w = (AᵀA+λI)...    592   12.8ms   23.6%  21.6μs     0.00B    0.0%    0.00B\n",
       "      axpy!              592    983μs    1.8%  1.66μs     0.00B    0.0%    0.00B\n",
       "    init workspace         1   2.01ms    3.7%  2.01ms   35.0KiB    0.4%  35.0KiB\n",
       "      compute -∇₀          1   1.92ms    3.5%  1.92ms     0.00B    0.0%    0.00B\n",
       "      compute d₁           1   1.42μs    0.0%  1.42μs     0.00B    0.0%    0.00B\n",
       "      compute x₁           1    755ns    0.0%   755ns     0.00B    0.0%    0.00B\n",
       "    compute residual       1   1.74ms    3.2%  1.74ms   64.0KiB    0.8%  64.0KiB\n",
       "    compute dₙ₊₁         592   1.14ms    2.1%  1.93μs   1.47KiB    0.0%    2.54B\n",
       "      solve H⋅w = y      592    763μs    1.4%  1.29μs     0.00B    0.0%    0.00B\n",
       "      axpy!              592    244μs    0.5%   413ns     0.00B    0.0%    0.00B\n",
       "    check convergence    593    194μs    0.4%   327ns     0.00B    0.0%    0.00B\n",
       "    compute xₙ₊₁         592    125μs    0.2%   211ns     0.00B    0.0%    0.00B\n",
       "    summary                1   7.81μs    0.0%  7.81μs     0.00B    0.0%    0.00B\n",
       "  spectral radius          1    156μs    0.3%   156μs   33.4KiB    0.4%  33.4KiB\n",
       "  Diag J                   1   6.03μs    0.0%  6.03μs   8.20KiB    0.1%  8.20KiB\n",
       "  Hessian; Diag            1    549ns    0.0%   549ns     0.00B    0.0%    0.00B\n",
       "\u001b[0m\u001b[1m────────────────────────────────────────────────────────────────────────────────\u001b[22m"
      ]
     },
     "metadata": {},
     "output_type": "display_data"
    },
    {
     "name": "stdout",
     "output_type": "stream",
     "text": [
      "  0.054529 seconds (1.36 k allocations: 8.257 MiB)\n"
     ]
    }
   ],
   "source": [
    "x, r, stats = @time solve_OLS(A, b, x_init, p; maxiter=10^2, use_qub=true, gtol=1e-4, lambda=λ, gram=true);\n",
    "x, r, stats = @time solve_OLS(A, b, x_init, p; maxiter=10^4, use_qub=true, gtol=1e-4, lambda=λ, gram=true);"
   ]
  },
  {
   "cell_type": "markdown",
   "id": "8f15a1b7",
   "metadata": {},
   "source": [
    "## L-BFGS, no preconditioner"
   ]
  },
  {
   "cell_type": "code",
   "execution_count": 6,
   "id": "9a12017e",
   "metadata": {},
   "outputs": [
    {
     "data": {
      "text/plain": [
       "\u001b[0m\u001b[1m────────────────────────────────────────────────────────────────────────────────\u001b[22m\n",
       "\u001b[0m\u001b[1m                              \u001b[22m         Time                    Allocations      \n",
       "                              ───────────────────────   ────────────────────────\n",
       "      Tot / % measured:           38.1ms /  99.9%           8.27MiB / 100.0%    \n",
       "\n",
       "Section               ncalls     time    %tot     avg     alloc    %tot      avg\n",
       "────────────────────────────────────────────────────────────────────────────────\n",
       "init AtA + λI; gra...      1   31.6ms   83.0%  31.6ms   8.00MiB   96.7%  8.00MiB\n",
       "OLS loop                   1   6.48ms   17.0%  6.48ms    276KiB    3.3%   276KiB\n",
       "  w = (AᵀA+λI)dₙ₊₁       100   2.21ms    5.8%  22.1μs     0.00B    0.0%    0.00B\n",
       "  init gradient            1   1.81ms    4.7%  1.81ms     0.00B    0.0%    0.00B\n",
       "  compute residual         1   1.66ms    4.4%  1.66ms   64.0KiB    0.8%  64.0KiB\n",
       "  compute search d...    100    501μs    1.3%  5.01μs     0.00B    0.0%    0.00B\n",
       "  update L-BFGS cache    100   62.8μs    0.2%   628ns     0.00B    0.0%    0.00B\n",
       "  check convergence      101   38.2μs    0.1%   378ns     0.00B    0.0%    0.00B\n",
       "  backtracking lin...    100   36.1μs    0.1%   361ns     0.00B    0.0%    0.00B\n",
       "  save prev gradient     100   25.0μs    0.1%   250ns     0.00B    0.0%    0.00B\n",
       "  compute xₙ₊₁           100   22.1μs    0.1%   221ns     0.00B    0.0%    0.00B\n",
       "  update gradient        100   18.3μs    0.0%   183ns     0.00B    0.0%    0.00B\n",
       "  init L-BFGS cache        1   9.34μs    0.0%  9.34μs    169KiB    2.0%   169KiB\n",
       "  summary                  1   8.00μs    0.0%  8.00μs     0.00B    0.0%    0.00B\n",
       "  init workspace           1   7.05μs    0.0%  7.05μs   32.8KiB    0.4%  32.8KiB\n",
       "\u001b[0m\u001b[1m────────────────────────────────────────────────────────────────────────────────\u001b[22m"
      ]
     },
     "metadata": {},
     "output_type": "display_data"
    },
    {
     "name": "stdout",
     "output_type": "stream",
     "text": [
      "  1.357295 seconds (1.16 M allocations: 80.765 MiB, 1.63% gc time, 97.17% compilation time)\n"
     ]
    },
    {
     "data": {
      "text/plain": [
       "\u001b[0m\u001b[1m────────────────────────────────────────────────────────────────────────────────\u001b[22m\n",
       "\u001b[0m\u001b[1m                              \u001b[22m         Time                    Allocations      \n",
       "                              ───────────────────────   ────────────────────────\n",
       "      Tot / % measured:           49.2ms /  99.8%           8.28MiB /  99.8%    \n",
       "\n",
       "Section               ncalls     time    %tot     avg     alloc    %tot      avg\n",
       "────────────────────────────────────────────────────────────────────────────────\n",
       "init AtA + λI; gra...      1   33.7ms   68.7%  33.7ms   8.00MiB   96.7%  8.00MiB\n",
       "OLS loop                   1   15.4ms   31.3%  15.4ms    276KiB    3.3%   276KiB\n",
       "  w = (AᵀA+λI)dₙ₊₁       393   8.55ms   17.4%  21.8μs     0.00B    0.0%    0.00B\n",
       "  compute search d...    393   2.13ms    4.3%  5.41μs     0.00B    0.0%    0.00B\n",
       "  init gradient            1   1.83ms    3.7%  1.83ms     0.00B    0.0%    0.00B\n",
       "  compute residual         1   1.73ms    3.5%  1.73ms   64.0KiB    0.8%  64.0KiB\n",
       "  update L-BFGS cache    393    258μs    0.5%   657ns     0.00B    0.0%    0.00B\n",
       "  check convergence      394    151μs    0.3%   382ns     0.00B    0.0%    0.00B\n",
       "  backtracking lin...    393    139μs    0.3%   354ns     0.00B    0.0%    0.00B\n",
       "  save prev gradient     393    102μs    0.2%   259ns     0.00B    0.0%    0.00B\n",
       "  compute xₙ₊₁           393   92.8μs    0.2%   236ns     0.00B    0.0%    0.00B\n",
       "  update gradient        393   72.8μs    0.1%   185ns     0.00B    0.0%    0.00B\n",
       "  init L-BFGS cache        1   11.8μs    0.0%  11.8μs    169KiB    2.0%   169KiB\n",
       "  summary                  1   7.60μs    0.0%  7.60μs     0.00B    0.0%    0.00B\n",
       "  init workspace           1   6.53μs    0.0%  6.53μs   32.8KiB    0.4%  32.8KiB\n",
       "\u001b[0m\u001b[1m────────────────────────────────────────────────────────────────────────────────\u001b[22m"
      ]
     },
     "metadata": {},
     "output_type": "display_data"
    },
    {
     "name": "stdout",
     "output_type": "stream",
     "text": [
      "  0.049436 seconds (1.13 k allocations: 8.364 MiB)\n"
     ]
    }
   ],
   "source": [
    "x, r, stats = @time solve_OLS_lbfgs(A, b, x_init; maxiter=10^2, precond=:none, gtol=1e-4, lambda=λ, gram=true);\n",
    "x, r, stats = @time solve_OLS_lbfgs(A, b, x_init; maxiter=10^4, precond=:none, gtol=1e-4, lambda=λ, gram=true);"
   ]
  },
  {
   "cell_type": "code",
   "execution_count": 7,
   "id": "ad97d0f0",
   "metadata": {},
   "outputs": [
    {
     "data": {
      "text/plain": [
       "\u001b[0m\u001b[1m────────────────────────────────────────────────────────────────────────────────\u001b[22m\n",
       "\u001b[0m\u001b[1m                              \u001b[22m         Time                    Allocations      \n",
       "                              ───────────────────────   ────────────────────────\n",
       "      Tot / % measured:           42.2ms /  99.9%           8.32MiB / 100.0%    \n",
       "\n",
       "Section               ncalls     time    %tot     avg     alloc    %tot      avg\n",
       "────────────────────────────────────────────────────────────────────────────────\n",
       "init AtA + λI; gra...      1   34.7ms   82.3%  34.7ms   8.00MiB   96.2%  8.00MiB\n",
       "Diag QUB; normaliz...      1   7.47ms   17.7%  7.47ms    321KiB    3.8%   321KiB\n",
       "  OLS loop                 1   7.26ms   17.2%  7.26ms    276KiB    3.2%   276KiB\n",
       "    w = (AᵀA+λI)dₙ₊₁      91   2.12ms    5.0%  23.3μs     0.00B    0.0%    0.00B\n",
       "    init gradient          1   2.03ms    4.8%  2.03ms     0.00B    0.0%    0.00B\n",
       "    compute residual       1   1.90ms    4.5%  1.90ms   64.0KiB    0.8%  64.0KiB\n",
       "    compute search...     91    765μs    1.8%  8.41μs     0.00B    0.0%    0.00B\n",
       "    update L-BFGS ...     91   72.8μs    0.2%   800ns     0.00B    0.0%    0.00B\n",
       "    check convergence     92   53.0μs    0.1%   576ns     0.00B    0.0%    0.00B\n",
       "    backtracking l...     91   51.4μs    0.1%   565ns     0.00B    0.0%    0.00B\n",
       "    compute xₙ₊₁          91   32.1μs    0.1%   352ns     0.00B    0.0%    0.00B\n",
       "    save prev grad...     91   30.9μs    0.1%   340ns     0.00B    0.0%    0.00B\n",
       "    update gradient       91   28.8μs    0.1%   316ns     0.00B    0.0%    0.00B\n",
       "    init L-BFGS cache      1   15.9μs    0.0%  15.9μs    169KiB    2.0%   169KiB\n",
       "    summary                1   11.6μs    0.0%  11.6μs     0.00B    0.0%    0.00B\n",
       "    init workspace         1   5.98μs    0.0%  5.98μs   32.8KiB    0.4%  32.8KiB\n",
       "  spectral radius          1    198μs    0.5%   198μs   33.4KiB    0.4%  33.4KiB\n",
       "  Diag J                   1   8.87μs    0.0%  8.87μs   8.20KiB    0.1%  8.20KiB\n",
       "  Hessian; Diag            1    537ns    0.0%   537ns     0.00B    0.0%    0.00B\n",
       "\u001b[0m\u001b[1m────────────────────────────────────────────────────────────────────────────────\u001b[22m"
      ]
     },
     "metadata": {},
     "output_type": "display_data"
    },
    {
     "name": "stdout",
     "output_type": "stream",
     "text": [
      "  0.042681 seconds (1.23 k allocations: 8.411 MiB)\n"
     ]
    },
    {
     "data": {
      "text/plain": [
       "\u001b[0m\u001b[1m────────────────────────────────────────────────────────────────────────────────\u001b[22m\n",
       "\u001b[0m\u001b[1m                              \u001b[22m         Time                    Allocations      \n",
       "                              ───────────────────────   ────────────────────────\n",
       "      Tot / % measured:           39.3ms /  99.7%           8.33MiB /  99.9%    \n",
       "\n",
       "Section               ncalls     time    %tot     avg     alloc    %tot      avg\n",
       "────────────────────────────────────────────────────────────────────────────────\n",
       "init AtA + λI; gra...      1   32.6ms   83.2%  32.6ms   8.00MiB   96.2%  8.00MiB\n",
       "Diag QUB; normaliz...      1   6.57ms   16.8%  6.57ms    321KiB    3.8%   321KiB\n",
       "  OLS loop                 1   6.39ms   16.3%  6.39ms    276KiB    3.2%   276KiB\n",
       "    w = (AᵀA+λI)dₙ₊₁      91   2.03ms    5.2%  22.3μs     0.00B    0.0%    0.00B\n",
       "    init gradient          1   1.77ms    4.5%  1.77ms     0.00B    0.0%    0.00B\n",
       "    compute residual       1   1.77ms    4.5%  1.77ms   64.0KiB    0.8%  64.0KiB\n",
       "    compute search...     91    531μs    1.4%  5.84μs     0.00B    0.0%    0.00B\n",
       "    update L-BFGS ...     91   57.9μs    0.1%   637ns     0.00B    0.0%    0.00B\n",
       "    check convergence     92   34.0μs    0.1%   370ns     0.00B    0.0%    0.00B\n",
       "    backtracking l...     91   30.9μs    0.1%   339ns     0.00B    0.0%    0.00B\n",
       "    save prev grad...     91   22.2μs    0.1%   244ns     0.00B    0.0%    0.00B\n",
       "    compute xₙ₊₁          91   20.8μs    0.1%   229ns     0.00B    0.0%    0.00B\n",
       "    update gradient       91   17.3μs    0.0%   190ns     0.00B    0.0%    0.00B\n",
       "    init L-BFGS cache      1   9.51μs    0.0%  9.51μs    169KiB    2.0%   169KiB\n",
       "    summary                1   8.12μs    0.0%  8.12μs     0.00B    0.0%    0.00B\n",
       "    init workspace         1   3.98μs    0.0%  3.98μs   32.8KiB    0.4%  32.8KiB\n",
       "  spectral radius          1    173μs    0.4%   173μs   33.4KiB    0.4%  33.4KiB\n",
       "  Diag J                   1   5.71μs    0.0%  5.71μs   8.20KiB    0.1%  8.20KiB\n",
       "  Hessian; Diag            1    315ns    0.0%   315ns     0.00B    0.0%    0.00B\n",
       "\u001b[0m\u001b[1m────────────────────────────────────────────────────────────────────────────────\u001b[22m"
      ]
     },
     "metadata": {},
     "output_type": "display_data"
    },
    {
     "name": "stdout",
     "output_type": "stream",
     "text": [
      "  0.039551 seconds (1.33 k allocations: 8.420 MiB)\n"
     ]
    }
   ],
   "source": [
    "x, r, stats = @time solve_OLS_lbfgs(A, b, x_init; maxiter=10^2, precond=:qub, gtol=1e-4, lambda=λ, gram=true);\n",
    "x, r, stats = @time solve_OLS_lbfgs(A, b, x_init; maxiter=10^4, precond=:qub, gtol=1e-4, lambda=λ, gram=true);"
   ]
  },
  {
   "cell_type": "markdown",
   "id": "bc4c7bd1",
   "metadata": {},
   "source": [
    "# QREG"
   ]
  },
  {
   "cell_type": "code",
   "execution_count": 8,
   "id": "9592bfd2",
   "metadata": {},
   "outputs": [
    {
     "data": {
      "text/plain": [
       "0.5"
      ]
     },
     "execution_count": 8,
     "metadata": {},
     "output_type": "execute_result"
    }
   ],
   "source": [
    "h = QBSolvers.default_bandwidth(A)\n",
    "q = 0.5"
   ]
  },
  {
   "cell_type": "markdown",
   "id": "ca74f236",
   "metadata": {},
   "source": [
    "## QUB"
   ]
  },
  {
   "cell_type": "code",
   "execution_count": 9,
   "id": "0ef49a3a",
   "metadata": {},
   "outputs": [
    {
     "data": {
      "text/plain": [
       "\u001b[0m\u001b[1m────────────────────────────────────────────────────────────────────────────────\u001b[22m\n",
       "\u001b[0m\u001b[1m                              \u001b[22m         Time                    Allocations      \n",
       "                              ───────────────────────   ────────────────────────\n",
       "      Tot / % measured:            385ms / 100.0%           8.29MiB / 100.0%    \n",
       "\n",
       "Section               ncalls     time    %tot     avg     alloc    %tot      avg\n",
       "────────────────────────────────────────────────────────────────────────────────\n",
       "Diag QLB; normaliz...      1    356ms   92.5%   356ms    292KiB    3.4%   292KiB\n",
       "  QREG loop                1    356ms   92.4%   356ms    247KiB    2.9%   247KiB\n",
       "    inner iterations      19    292ms   75.8%  15.3ms   2.94KiB    0.0%     158B\n",
       "      update g         14.2k    259ms   67.2%  18.3μs     0.00B    0.0%    0.00B\n",
       "      d = H⁻¹ g        14.2k   14.5ms    3.8%  1.02μs     0.00B    0.0%    0.00B\n",
       "      x = x + d        14.2k   6.68ms    1.7%   472ns     0.00B    0.0%    0.00B\n",
       "      check conver...  14.2k   5.67ms    1.5%   400ns     0.00B    0.0%    0.00B\n",
       "    compute residual      19   31.1ms    8.1%  1.64ms     0.00B    0.0%    0.00B\n",
       "    compute Aᵀu           19   28.1ms    7.3%  1.48ms     0.00B    0.0%    0.00B\n",
       "    compute g (neg...     19   2.26ms    0.6%   119μs     0.00B    0.0%    0.00B\n",
       "    init residual          1   1.88ms    0.5%  1.88ms   64.0KiB    0.8%  64.0KiB\n",
       "    eval objective        20    121μs    0.0%  6.04μs     0.00B    0.0%    0.00B\n",
       "    set RHS u             19    100μs    0.0%  5.25μs     0.00B    0.0%    0.00B\n",
       "    Nesterov accel...     19   97.3μs    0.0%  5.12μs     0.00B    0.0%    0.00B\n",
       "    eval prox             19   82.3μs    0.0%  4.33μs     0.00B    0.0%    0.00B\n",
       "    check converge...     19   20.4μs    0.0%  1.07μs     0.00B    0.0%    0.00B\n",
       "    init workspace         1   9.52μs    0.0%  9.52μs    170KiB    2.0%   170KiB\n",
       "    summary                1   8.24μs    0.0%  8.24μs     0.00B    0.0%    0.00B\n",
       "    check converge...     19   5.83μs    0.0%   307ns     0.00B    0.0%    0.00B\n",
       "  Diag J                   1    350μs    0.1%   350μs   8.20KiB    0.1%  8.20KiB\n",
       "  spectral radius          1    133μs    0.0%   133μs   33.4KiB    0.4%  33.4KiB\n",
       "  Hessian; Diag            1    592ns    0.0%   592ns     0.00B    0.0%    0.00B\n",
       "init AtA + λI; gra...      1   28.7ms    7.5%  28.7ms   8.00MiB   96.6%  8.00MiB\n",
       "\u001b[0m\u001b[1m────────────────────────────────────────────────────────────────────────────────\u001b[22m"
      ]
     },
     "metadata": {},
     "output_type": "display_data"
    },
    {
     "name": "stdout",
     "output_type": "stream",
     "text": [
      "  4.609843 seconds (2.13 M allocations: 128.363 MiB, 0.47% gc time, 91.64% compilation time)\n"
     ]
    },
    {
     "data": {
      "text/plain": [
       "\u001b[0m\u001b[1m────────────────────────────────────────────────────────────────────────────────\u001b[22m\n",
       "\u001b[0m\u001b[1m                              \u001b[22m         Time                    Allocations      \n",
       "                              ───────────────────────   ────────────────────────\n",
       "      Tot / % measured:            384ms / 100.0%           8.30MiB /  99.8%    \n",
       "\n",
       "Section               ncalls     time    %tot     avg     alloc    %tot      avg\n",
       "────────────────────────────────────────────────────────────────────────────────\n",
       "Diag QLB; normaliz...      1    364ms   94.7%   364ms    292KiB    3.4%   292KiB\n",
       "  QREG loop                1    364ms   94.7%   364ms    247KiB    2.9%   247KiB\n",
       "    inner iterations      19    298ms   77.6%  15.7ms   2.94KiB    0.0%     158B\n",
       "      update g         14.2k    265ms   69.0%  18.7μs     0.00B    0.0%    0.00B\n",
       "      d = H⁻¹ g        14.2k   14.4ms    3.8%  1.02μs     0.00B    0.0%    0.00B\n",
       "      x = x + d        14.2k   6.60ms    1.7%   466ns     0.00B    0.0%    0.00B\n",
       "      check conver...  14.2k   5.63ms    1.5%   398ns     0.00B    0.0%    0.00B\n",
       "    compute residual      19   32.1ms    8.4%  1.69ms     0.00B    0.0%    0.00B\n",
       "    compute Aᵀu           19   29.1ms    7.6%  1.53ms     0.00B    0.0%    0.00B\n",
       "    compute g (neg...     19   2.24ms    0.6%   118μs     0.00B    0.0%    0.00B\n",
       "    init residual          1   1.78ms    0.5%  1.78ms   64.0KiB    0.8%  64.0KiB\n",
       "    eval objective        20    119μs    0.0%  5.96μs     0.00B    0.0%    0.00B\n",
       "    set RHS u             19    106μs    0.0%  5.57μs     0.00B    0.0%    0.00B\n",
       "    Nesterov accel...     19   97.8μs    0.0%  5.15μs     0.00B    0.0%    0.00B\n",
       "    eval prox             19   82.1μs    0.0%  4.32μs     0.00B    0.0%    0.00B\n",
       "    check converge...     19   24.8μs    0.0%  1.30μs     0.00B    0.0%    0.00B\n",
       "    summary                1   11.7μs    0.0%  11.7μs     0.00B    0.0%    0.00B\n",
       "    init workspace         1   11.0μs    0.0%  11.0μs    170KiB    2.0%   170KiB\n",
       "    check converge...     19   5.32μs    0.0%   280ns     0.00B    0.0%    0.00B\n",
       "  spectral radius          1    129μs    0.0%   129μs   33.4KiB    0.4%  33.4KiB\n",
       "  Diag J                   1   6.53μs    0.0%  6.53μs   8.20KiB    0.1%  8.20KiB\n",
       "  Hessian; Diag            1    528ns    0.0%   528ns     0.00B    0.0%    0.00B\n",
       "init AtA + λI; gra...      1   20.2ms    5.3%  20.2ms   8.00MiB   96.6%  8.00MiB\n",
       "\u001b[0m\u001b[1m────────────────────────────────────────────────────────────────────────────────\u001b[22m"
      ]
     },
     "metadata": {},
     "output_type": "display_data"
    },
    {
     "name": "stdout",
     "output_type": "stream",
     "text": [
      "  0.384711 seconds (1.53 k allocations: 8.405 MiB)\n"
     ]
    }
   ],
   "source": [
    "x, r, stats = @time solve_QREG(A, b, x_init, p; q=q, h=h, maxiter=10^3, rtol=1e-6, gtol=1e-1, gram=true);\n",
    "x, r, stats = @time solve_QREG(A, b, x_init, p; q=q, h=h, maxiter=10^3, rtol=1e-6, gtol=1e-1, gram=true);"
   ]
  },
  {
   "cell_type": "markdown",
   "id": "adc83f63",
   "metadata": {},
   "source": [
    "## L-BFGS"
   ]
  },
  {
   "cell_type": "code",
   "execution_count": 10,
   "id": "1a512845",
   "metadata": {},
   "outputs": [
    {
     "data": {
      "text/plain": [
       "\u001b[0m\u001b[1m────────────────────────────────────────────────────────────────────────────────\u001b[22m\n",
       "\u001b[0m\u001b[1m                              \u001b[22m         Time                    Allocations      \n",
       "                              ───────────────────────   ────────────────────────\n",
       "      Tot / % measured:            126ms /  99.9%           8.46MiB / 100.0%    \n",
       "\n",
       "Section               ncalls     time    %tot     avg     alloc    %tot      avg\n",
       "────────────────────────────────────────────────────────────────────────────────\n",
       "Diag QLB; normaliz...      1    106ms   84.2%   106ms    464KiB    5.4%   464KiB\n",
       "  QREG loop                1    106ms   84.1%   106ms    420KiB    4.8%   420KiB\n",
       "    inner iterations      19   43.3ms   34.3%  2.28ms   5.88KiB    0.1%     317B\n",
       "      w = (AᵀA+λI)...  1.56k   28.6ms   22.6%  18.3μs     0.00B    0.0%    0.00B\n",
       "      compute sear...  1.56k   9.40ms    7.4%  6.01μs     0.00B    0.0%    0.00B\n",
       "      update L-BFG...  1.56k   1.21ms    1.0%   776ns     0.00B    0.0%    0.00B\n",
       "      backtracking...  1.56k    736μs    0.6%   471ns     0.00B    0.0%    0.00B\n",
       "      check conver...  1.56k    663μs    0.5%   424ns     0.00B    0.0%    0.00B\n",
       "      compute xₙ₊₁     1.56k    489μs    0.4%   313ns     0.00B    0.0%    0.00B\n",
       "      save prev gr...  1.56k    480μs    0.4%   307ns     0.00B    0.0%    0.00B\n",
       "      update gradient  1.56k    393μs    0.3%   252ns     0.00B    0.0%    0.00B\n",
       "    compute residual      19   30.3ms   24.0%  1.60ms     0.00B    0.0%    0.00B\n",
       "    compute Aᵀu           19   28.1ms   22.2%  1.48ms     0.00B    0.0%    0.00B\n",
       "    compute g (neg...     19   2.25ms    1.8%   118μs     0.00B    0.0%    0.00B\n",
       "    init residual          1   1.77ms    1.4%  1.77ms   64.0KiB    0.7%  64.0KiB\n",
       "    eval objective        20    125μs    0.1%  6.26μs     0.00B    0.0%    0.00B\n",
       "    set RHS u             19   93.9μs    0.1%  4.94μs     0.00B    0.0%    0.00B\n",
       "    Nesterov accel...     19   90.3μs    0.1%  4.75μs     0.00B    0.0%    0.00B\n",
       "    eval prox             19   87.9μs    0.1%  4.63μs     0.00B    0.0%    0.00B\n",
       "    check converge...     19   29.4μs    0.0%  1.55μs     0.00B    0.0%    0.00B\n",
       "    init workspace         1   10.2μs    0.0%  10.2μs    170KiB    2.0%   170KiB\n",
       "    summary                1   8.48μs    0.0%  8.48μs     0.00B    0.0%    0.00B\n",
       "    init L-BFGS cache      1   7.18μs    0.0%  7.18μs    169KiB    1.9%   169KiB\n",
       "    check converge...     19   5.64μs    0.0%   297ns     0.00B    0.0%    0.00B\n",
       "  spectral radius          1    132μs    0.1%   132μs   33.4KiB    0.4%  33.4KiB\n",
       "  Diag J                   1   5.75μs    0.0%  5.75μs   8.20KiB    0.1%  8.20KiB\n",
       "  Hessian; Diag            1    510ns    0.0%   510ns     0.00B    0.0%    0.00B\n",
       "init AtA + λI; gra...      1   19.9ms   15.8%  19.9ms   8.00MiB   94.6%  8.00MiB\n",
       "\u001b[0m\u001b[1m────────────────────────────────────────────────────────────────────────────────\u001b[22m"
      ]
     },
     "metadata": {},
     "output_type": "display_data"
    },
    {
     "name": "stdout",
     "output_type": "stream",
     "text": [
      "  5.871744 seconds (2.86 M allocations: 163.928 MiB, 0.17% gc time, 97.84% compilation time)\n"
     ]
    },
    {
     "data": {
      "text/plain": [
       "\u001b[0m\u001b[1m────────────────────────────────────────────────────────────────────────────────\u001b[22m\n",
       "\u001b[0m\u001b[1m                              \u001b[22m         Time                    Allocations      \n",
       "                              ───────────────────────   ────────────────────────\n",
       "      Tot / % measured:            129ms /  99.9%           8.47MiB /  99.9%    \n",
       "\n",
       "Section               ncalls     time    %tot     avg     alloc    %tot      avg\n",
       "────────────────────────────────────────────────────────────────────────────────\n",
       "Diag QLB; normaliz...      1    108ms   83.7%   108ms    464KiB    5.4%   464KiB\n",
       "  QREG loop                1    108ms   83.5%   108ms    420KiB    4.8%   420KiB\n",
       "    inner iterations      19   44.9ms   34.9%  2.36ms   5.88KiB    0.1%     317B\n",
       "      w = (AᵀA+λI)...  1.56k   29.8ms   23.2%  19.1μs     0.00B    0.0%    0.00B\n",
       "      compute sear...  1.56k   9.75ms    7.6%  6.24μs     0.00B    0.0%    0.00B\n",
       "      update L-BFG...  1.56k   1.25ms    1.0%   799ns     0.00B    0.0%    0.00B\n",
       "      backtracking...  1.56k    744μs    0.6%   476ns     0.00B    0.0%    0.00B\n",
       "      check conver...  1.56k    655μs    0.5%   419ns     0.00B    0.0%    0.00B\n",
       "      compute xₙ₊₁     1.56k    516μs    0.4%   330ns     0.00B    0.0%    0.00B\n",
       "      save prev gr...  1.56k    490μs    0.4%   314ns     0.00B    0.0%    0.00B\n",
       "      update gradient  1.56k    396μs    0.3%   253ns     0.00B    0.0%    0.00B\n",
       "    compute residual      19   30.1ms   23.4%  1.58ms     0.00B    0.0%    0.00B\n",
       "    compute Aᵀu           19   28.2ms   21.9%  1.48ms     0.00B    0.0%    0.00B\n",
       "    compute g (neg...     19   2.05ms    1.6%   108μs     0.00B    0.0%    0.00B\n",
       "    init residual          1   1.78ms    1.4%  1.78ms   64.0KiB    0.7%  64.0KiB\n",
       "    eval objective        20    121μs    0.1%  6.06μs     0.00B    0.0%    0.00B\n",
       "    set RHS u             19   93.7μs    0.1%  4.93μs     0.00B    0.0%    0.00B\n",
       "    Nesterov accel...     19   91.0μs    0.1%  4.79μs     0.00B    0.0%    0.00B\n",
       "    eval prox             19   83.8μs    0.1%  4.41μs     0.00B    0.0%    0.00B\n",
       "    check converge...     19   27.9μs    0.0%  1.47μs     0.00B    0.0%    0.00B\n",
       "    init workspace         1   15.5μs    0.0%  15.5μs    170KiB    2.0%   170KiB\n",
       "    init L-BFGS cache      1   9.91μs    0.0%  9.91μs    169KiB    1.9%   169KiB\n",
       "    summary                1   7.98μs    0.0%  7.98μs     0.00B    0.0%    0.00B\n",
       "    check converge...     19   7.63μs    0.0%   402ns     0.00B    0.0%    0.00B\n",
       "  spectral radius          1    164μs    0.1%   164μs   33.4KiB    0.4%  33.4KiB\n",
       "  Diag J                   1   4.86μs    0.0%  4.86μs   8.20KiB    0.1%  8.20KiB\n",
       "  Hessian; Diag            1    557ns    0.0%   557ns     0.00B    0.0%    0.00B\n",
       "init AtA + λI; gra...      1   21.0ms   16.3%  21.0ms   8.00MiB   94.6%  8.00MiB\n",
       "\u001b[0m\u001b[1m────────────────────────────────────────────────────────────────────────────────\u001b[22m"
      ]
     },
     "metadata": {},
     "output_type": "display_data"
    },
    {
     "name": "stdout",
     "output_type": "stream",
     "text": [
      "  0.129323 seconds (1.78 k allocations: 8.590 MiB)\n"
     ]
    }
   ],
   "source": [
    "x, r, stats = @time solve_QREG_lbfgs(A, b, x_init, p; q=q, h=h, maxiter=10^3, rtol=1e-6, gtol=1e-1, gram=true);\n",
    "x, r, stats = @time solve_QREG_lbfgs(A, b, x_init, p; q=q, h=h, maxiter=10^3, rtol=1e-6, gtol=1e-1, gram=true);"
   ]
  }
 ],
 "metadata": {
  "kernelspec": {
   "display_name": "Julia 1.10.9",
   "language": "julia",
   "name": "julia-1.10"
  },
  "language_info": {
   "file_extension": ".jl",
   "mimetype": "application/julia",
   "name": "julia",
   "version": "1.10.9"
  }
 },
 "nbformat": 4,
 "nbformat_minor": 5
}
