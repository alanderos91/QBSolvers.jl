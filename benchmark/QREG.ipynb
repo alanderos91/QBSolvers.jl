{
 "cells": [
  {
   "cell_type": "code",
   "execution_count": 1,
   "id": "647e6309",
   "metadata": {},
   "outputs": [
    {
     "name": "stderr",
     "output_type": "stream",
     "text": [
      "\u001b[32m\u001b[1m  Activating\u001b[22m\u001b[39m project at `~/Documents/Dev/Workspaces/ParallelLeastSquares/benchmark`\n",
      "\u001b[32m\u001b[1mPrecompiling\u001b[22m\u001b[39m packages...\n",
      "   2937.2 ms\u001b[32m  ✓ \u001b[39mDistributions\n",
      "  1 dependency successfully precompiled in 4 seconds. 76 already precompiled.\n",
      "\u001b[36m\u001b[1m[ \u001b[22m\u001b[39m\u001b[36m\u001b[1mInfo: \u001b[22m\u001b[39mPrecompiling Distributions [31c24e10-a181-5473-b8eb-7969acd0382f]\n",
      "\u001b[32m\u001b[1mPrecompiling\u001b[22m\u001b[39m packages...\n",
      "   3999.4 ms\u001b[32m  ✓ \u001b[39m\u001b[90mStatsModels\u001b[39m\n",
      "  1 dependency successfully precompiled in 5 seconds. 53 already precompiled.\n",
      "\u001b[36m\u001b[1m[ \u001b[22m\u001b[39m\u001b[36m\u001b[1mInfo: \u001b[22m\u001b[39mPrecompiling RCall [6f49c342-dc21-5d91-9882-a32aef131414]\n",
      "\u001b[33m\u001b[1m┌ \u001b[22m\u001b[39m\u001b[33m\u001b[1mWarning: \u001b[22m\u001b[39mModule StatsFuns with build ID fafbfcfd-9423-f025-f7e7-dbd8a0517aed is missing from the cache.\n",
      "\u001b[33m\u001b[1m│ \u001b[22m\u001b[39mThis may mean StatsFuns [4c63d2b9-4356-54db-8cca-17b64c39e42c] does not support precompilation but is imported by a module that does.\n",
      "\u001b[33m\u001b[1m└ \u001b[22m\u001b[39m\u001b[90m@ Base loading.jl:2018\u001b[39m\n",
      "\u001b[36m\u001b[1m[ \u001b[22m\u001b[39m\u001b[36m\u001b[1mInfo: \u001b[22m\u001b[39mSkipping precompilation since __precompile__(false). Importing RCall [6f49c342-dc21-5d91-9882-a32aef131414].\n",
      "\u001b[36m\u001b[1m[ \u001b[22m\u001b[39m\u001b[36m\u001b[1mInfo: \u001b[22m\u001b[39mPrecompiling StatsModels [3eaba693-59b7-5ba5-a881-562e759f1c8d]\n",
      "\u001b[33m\u001b[1m┌ \u001b[22m\u001b[39m\u001b[33m\u001b[1mWarning: \u001b[22m\u001b[39mModule StatsFuns with build ID fafbfcfd-9423-f025-f7e7-dbd8a0517aed is missing from the cache.\n",
      "\u001b[33m\u001b[1m│ \u001b[22m\u001b[39mThis may mean StatsFuns [4c63d2b9-4356-54db-8cca-17b64c39e42c] does not support precompilation but is imported by a module that does.\n",
      "\u001b[33m\u001b[1m└ \u001b[22m\u001b[39m\u001b[90m@ Base loading.jl:2018\u001b[39m\n",
      "\u001b[36m\u001b[1m[ \u001b[22m\u001b[39m\u001b[36m\u001b[1mInfo: \u001b[22m\u001b[39mSkipping precompilation since __precompile__(false). Importing StatsModels [3eaba693-59b7-5ba5-a881-562e759f1c8d].\n"
     ]
    },
    {
     "name": "stdout",
     "output_type": "stream",
     "text": [
      "\u001b[32m\u001b[1mStatus\u001b[22m\u001b[39m `~/Documents/Dev/Workspaces/ParallelLeastSquares/benchmark/Project.toml`\n",
      "  \u001b[90m[6e4b80f9] \u001b[39mBenchmarkTools v1.6.0\n",
      "\u001b[32m⌃\u001b[39m \u001b[90m[8e7c35d0] \u001b[39mBlockArrays v1.6.3\n",
      "  \u001b[90m[0a1fb500] \u001b[39mBlockDiagonals v0.2.0\n",
      "\u001b[32m⌃\u001b[39m \u001b[90m[a93c6f00] \u001b[39mDataFrames v1.7.0\n",
      "  \u001b[90m[31c24e10] \u001b[39mDistributions v0.25.120\n",
      "  \u001b[90m[42fd0dbc] \u001b[39mIterativeSolvers v0.9.4\n",
      "  \u001b[90m[9df87fff] \u001b[39mMMDeweighting v1.0.0-DEV `https://github.com/qhengncsu/MMDeweighting.jl#main`\n",
      "\u001b[33m⌅\u001b[39m \u001b[90m[08abe8d2] \u001b[39mPrettyTables v2.4.0\n",
      "  \u001b[90m[5d646e68] \u001b[39mQBSolvers v0.1.0 `..`\n",
      "\u001b[32m⌃\u001b[39m \u001b[90m[6f49c342] \u001b[39mRCall v0.14.8\n",
      "  \u001b[90m[37e2e46d] \u001b[39mLinearAlgebra\n",
      "  \u001b[90m[10745b16] \u001b[39mStatistics v1.10.0\n",
      "\u001b[36m\u001b[1mInfo\u001b[22m\u001b[39m Packages marked with \u001b[32m⌃\u001b[39m and \u001b[33m⌅\u001b[39m have new versions available. Those with \u001b[32m⌃\u001b[39m may be upgradable, but those with \u001b[33m⌅\u001b[39m are restricted by compatibility constraints from upgrading. To see why use `status --outdated`\n",
      "\n",
      "Julia Version 1.10.10\n",
      "Commit 95f30e51f41 (2025-06-27 09:51 UTC)\n",
      "Build Info:\n",
      "  Official https://julialang.org/ release\n",
      "Platform Info:\n",
      "  OS: Linux (x86_64-linux-gnu)\n",
      "  CPU: 20 × Intel(R) Core(TM) i9-10900KF CPU @ 3.70GHz\n",
      "  WORD_SIZE: 64\n",
      "  LIBM: libopenlibm\n",
      "  LLVM: libLLVM-15.0.7 (ORCJIT, skylake)\n",
      "Threads: 1 default, 0 interactive, 1 GC (on 20 virtual cores)\n",
      "\n"
     ]
    },
    {
     "data": {
      "text/plain": [
       "LinearAlgebra.BLAS.LBTConfig\n",
       "Libraries: \n",
       "├ [ILP64] libmkl_rt.so└ [ LP64] libmkl_rt.so"
      ]
     },
     "metadata": {},
     "output_type": "display_data"
    },
    {
     "name": "stdout",
     "output_type": "stream",
     "text": [
      "\n",
      "\n",
      "RObject{VecSxp}\n",
      "R version 4.5.1 (2025-06-13)\n",
      "Platform: x86_64-pc-linux-gnu\n",
      "Running under: Manjaro Linux\n",
      "\n",
      "Matrix products: default\n",
      "BLAS:   /usr/lib/libblas.so.3.12.0 \n",
      "LAPACK: /home/alanderos/.julia/artifacts/27edf95310a71d47422663c3aea849f56efb1360/lib/libmkl_intel_lp64.so.2;  LAPACK version 3.12.1\n",
      "\n",
      "locale:\n",
      " [1] LC_CTYPE=en_US.utf8           LC_NUMERIC=C                 \n",
      " [3] LC_TIME=en_US.UTF-8           LC_COLLATE=en_US.utf8        \n",
      " [5] LC_MONETARY=en_US.UTF-8       LC_MESSAGES=en_US.utf8       \n",
      " [7] LC_PAPER=en_US.UTF-8          LC_NAME=en_US.UTF-8          \n",
      " [9] LC_ADDRESS=en_US.UTF-8        LC_TELEPHONE=en_US.UTF-8     \n",
      "[11] LC_MEASUREMENT=en_US.UTF-8    LC_IDENTIFICATION=en_US.UTF-8\n",
      "\n",
      "time zone: America/Los_Angeles\n",
      "tzcode source: system (glibc)\n",
      "\n",
      "attached base packages:\n",
      "[1] stats     graphics  grDevices utils     datasets  methods   base     \n",
      "\n",
      "other attached packages:\n",
      "[1] conquer_1.3.3\n",
      "\n",
      "loaded via a namespace (and not attached):\n",
      "[1] compiler_4.5.1    Matrix_1.7-3      Rcpp_1.0.14       grid_4.5.1       \n",
      "[5] matrixStats_1.5.0 lattice_0.22-7   \n",
      "\n"
     ]
    }
   ],
   "source": [
    "eval(:(Base.is_interactive = true)) # required since IJulia won't set interactive flag\n",
    "include(\"QREG.jl\")"
   ]
  },
  {
   "cell_type": "code",
   "execution_count": 2,
   "id": "4688b65a",
   "metadata": {},
   "outputs": [
    {
     "data": {
      "text/plain": [
       "run_comparison (generic function with 1 method)"
      ]
     },
     "execution_count": 2,
     "metadata": {},
     "output_type": "execute_result"
    }
   ],
   "source": [
    "function run_comparison(n, p, q, seed, ρ, accel)\n",
    "  intercept = true\n",
    "  @info \"n=$n p=$p ρ=$ρ\" standardize=false accel=accel\n",
    "  flush(stdout); flush(stderr)\n",
    "  main(n, p, q, seed, ρ; standardize=false, intercept=intercept, accel=accel)\n",
    "  @info \"n=$n p=$p ρ=$ρ\" standardize=true accel=accel\n",
    "  flush(stdout); flush(stderr)\n",
    "  main(n, p, q, seed, ρ; standardize=true,  intercept=intercept, accel=accel)\n",
    "end"
   ]
  },
  {
   "cell_type": "code",
   "execution_count": 3,
   "id": "9cfed032",
   "metadata": {},
   "outputs": [],
   "source": [
    "n, p, q, seed = 8192, 1024, 0.5, 9999;"
   ]
  },
  {
   "cell_type": "code",
   "execution_count": 4,
   "id": "d3e738ba",
   "metadata": {},
   "outputs": [
    {
     "name": "stderr",
     "output_type": "stream",
     "text": [
      "\u001b[36m\u001b[1m┌ \u001b[22m\u001b[39m\u001b[36m\u001b[1mInfo: \u001b[22m\u001b[39mn=8192 p=1024 ρ=0.2\n",
      "\u001b[36m\u001b[1m│ \u001b[22m\u001b[39m  standardize = false\n",
      "\u001b[36m\u001b[1m└ \u001b[22m\u001b[39m  accel = false\n"
     ]
    },
    {
     "name": "stdout",
     "output_type": "stream",
     "text": [
      "seed:    9999\n",
      "size(X): 8192 × 1024+1\n",
      "cond(X): 2.4641820190564636\n",
      "ρ:       0.2\n",
      "q:       0.5\n",
      "h:       0.4368033761057563\n",
      "\n",
      "    MMDW .......... 0.1896 seconds\n",
      " conquer .......... 0.183139 seconds\n",
      "   QUBd0 .......... 0.252013 seconds\n",
      "   QUBd1 .......... 0.253044 seconds\n",
      "   QUBs0 .......... 0.138707 seconds\n",
      "   QUBs1 .......... 0.118924 seconds\n",
      "   QUBt0 .......... 0.177208 seconds\n",
      "   QUBt1 .......... 0.143302 seconds\n",
      "┌─────────┬─────────┬─────────┬──────────┬───────┬─────────┬─────────┬──────────┬──────────┐\n",
      "│\u001b[1m       ρ \u001b[0m│\u001b[1m       q \u001b[0m│\u001b[1m  method \u001b[0m│\u001b[1m     time \u001b[0m│\u001b[1m  iter \u001b[0m│\u001b[1m   xnorm \u001b[0m│\u001b[1m   rnorm \u001b[0m│\u001b[1m    objv1 \u001b[0m│\u001b[1m    objv2 \u001b[0m│\n",
      "│\u001b[90m Float64 \u001b[0m│\u001b[90m Float64 \u001b[0m│\u001b[90m  String \u001b[0m│\u001b[90m  Float64 \u001b[0m│\u001b[90m Int64 \u001b[0m│\u001b[90m Float64 \u001b[0m│\u001b[90m Float64 \u001b[0m│\u001b[90m  Float64 \u001b[0m│\u001b[90m  Float64 \u001b[0m│\n",
      "├─────────┼─────────┼─────────┼──────────┼───────┼─────────┼─────────┼──────────┼──────────┤\n",
      "│     0.2 │     0.5 │    MMDW │   0.1896 │    50 │ 3.40437 │  548.89 │ 0.878698 │ 0.892038 │\n",
      "│     0.2 │     0.5 │ conquer │ 0.183139 │    19 │ 3.40436 │ 548.889 │   0.8787 │ 0.892038 │\n",
      "│     0.2 │     0.5 │   QUBd0 │ 0.252013 │    65 │  3.4044 │ 548.882 │ 0.878699 │ 0.892038 │\n",
      "│     0.2 │     0.5 │   QUBd1 │ 0.253044 │    65 │  3.4044 │ 548.882 │ 0.878699 │ 0.892038 │\n",
      "│     0.2 │     0.5 │   QUBs0 │ 0.138707 │    28 │ 3.40435 │ 548.891 │ 0.878699 │ 0.892038 │\n",
      "│     0.2 │     0.5 │   QUBs1 │ 0.118924 │    21 │ 3.40435 │ 548.891 │ 0.878699 │ 0.892038 │\n",
      "│     0.2 │     0.5 │   QUBt0 │ 0.177208 │    40 │  3.4047 │ 548.842 │ 0.877067 │ 0.892388 │\n",
      "│     0.2 │     0.5 │   QUBt1 │ 0.143302 │    29 │ 3.40471 │ 548.842 │ 0.877067 │ 0.892388 │\n",
      "└─────────┴─────────┴─────────┴──────────┴───────┴─────────┴─────────┴──────────┴──────────┘\n"
     ]
    },
    {
     "name": "stderr",
     "output_type": "stream",
     "text": [
      "\u001b[36m\u001b[1m┌ \u001b[22m\u001b[39m\u001b[36m\u001b[1mInfo: \u001b[22m\u001b[39mn=8192 p=1024 ρ=0.2\n",
      "\u001b[36m\u001b[1m│ \u001b[22m\u001b[39m  standardize = true\n",
      "\u001b[36m\u001b[1m└ \u001b[22m\u001b[39m  accel = false\n"
     ]
    },
    {
     "name": "stdout",
     "output_type": "stream",
     "text": [
      "seed:    9999\n",
      "size(X): 8192 × 1024+1\n",
      "cond(X): 2.4616662285129736\n",
      "ρ:       0.2\n",
      "q:       0.5\n",
      "h:       0.4368033761057563\n",
      "\n",
      "    MMDW .......... 0.188295 seconds\n",
      " conquer .......... 0.18307 seconds\n",
      "   QUBd0 .......... 0.251179 seconds\n",
      "   QUBd1 .......... 0.252539 seconds\n",
      "   QUBs0 .......... 0.137204 seconds\n",
      "   QUBs1 .......... 0.118025 seconds\n",
      "   QUBt0 .......... 0.176075 seconds\n",
      "   QUBt1 .......... 0.143108 seconds\n",
      "┌─────────┬─────────┬─────────┬──────────┬───────┬─────────┬─────────┬──────────┬──────────┐\n",
      "│\u001b[1m       ρ \u001b[0m│\u001b[1m       q \u001b[0m│\u001b[1m  method \u001b[0m│\u001b[1m     time \u001b[0m│\u001b[1m  iter \u001b[0m│\u001b[1m   xnorm \u001b[0m│\u001b[1m   rnorm \u001b[0m│\u001b[1m    objv1 \u001b[0m│\u001b[1m    objv2 \u001b[0m│\n",
      "│\u001b[90m Float64 \u001b[0m│\u001b[90m Float64 \u001b[0m│\u001b[90m  String \u001b[0m│\u001b[90m  Float64 \u001b[0m│\u001b[90m Int64 \u001b[0m│\u001b[90m Float64 \u001b[0m│\u001b[90m Float64 \u001b[0m│\u001b[90m  Float64 \u001b[0m│\u001b[90m  Float64 \u001b[0m│\n",
      "├─────────┼─────────┼─────────┼──────────┼───────┼─────────┼─────────┼──────────┼──────────┤\n",
      "│     0.2 │     0.5 │    MMDW │ 0.188295 │    50 │ 3.40105 │  548.89 │ 0.878698 │ 0.892038 │\n",
      "│     0.2 │     0.5 │ conquer │  0.18307 │    19 │ 3.40105 │ 548.889 │   0.8787 │ 0.892038 │\n",
      "│     0.2 │     0.5 │   QUBd0 │ 0.251179 │    65 │ 3.40109 │ 548.882 │ 0.878699 │ 0.892038 │\n",
      "│     0.2 │     0.5 │   QUBd1 │ 0.252539 │    65 │ 3.40109 │ 548.882 │ 0.878699 │ 0.892038 │\n",
      "│     0.2 │     0.5 │   QUBs0 │ 0.137204 │    28 │ 3.40104 │ 548.891 │ 0.878699 │ 0.892038 │\n",
      "│     0.2 │     0.5 │   QUBs1 │ 0.118025 │    21 │ 3.40104 │ 548.891 │ 0.878699 │ 0.892038 │\n",
      "│     0.2 │     0.5 │   QUBt0 │ 0.176075 │    40 │ 3.40136 │ 548.842 │ 0.877068 │ 0.892388 │\n",
      "│     0.2 │     0.5 │   QUBt1 │ 0.143108 │    29 │ 3.40136 │ 548.842 │ 0.877067 │ 0.892388 │\n",
      "└─────────┴─────────┴─────────┴──────────┴───────┴─────────┴─────────┴──────────┴──────────┘\n"
     ]
    }
   ],
   "source": [
    "run_comparison(n, p, q, seed, 0.2, false)"
   ]
  },
  {
   "cell_type": "code",
   "execution_count": 5,
   "id": "cebf0635",
   "metadata": {},
   "outputs": [
    {
     "name": "stderr",
     "output_type": "stream",
     "text": [
      "\u001b[36m\u001b[1m┌ \u001b[22m\u001b[39m\u001b[36m\u001b[1mInfo: \u001b[22m\u001b[39mn=8192 p=1024 ρ=0.2\n",
      "\u001b[36m\u001b[1m│ \u001b[22m\u001b[39m  standardize = false\n",
      "\u001b[36m\u001b[1m└ \u001b[22m\u001b[39m  accel = true\n"
     ]
    },
    {
     "name": "stdout",
     "output_type": "stream",
     "text": [
      "seed:    9999\n",
      "size(X): 8192 × 1024+1\n",
      "cond(X): 2.4641820190564636\n",
      "ρ:       0.2\n",
      "q:       0.5\n",
      "h:       0.4368033761057563\n",
      "\n",
      "    MMDW .......... 0.191872 seconds\n",
      " conquer .......... 0.182674 seconds\n",
      "   QUBd0 .......... 0.149816 seconds\n",
      "   QUBd1 .......... 0.150602 seconds\n",
      "   QUBs0 .......... 0.138541 seconds\n",
      "   QUBs1 .......... 0.121692 seconds\n",
      "   QUBt0 .......... 0.17426 seconds\n",
      "   QUBt1 .......... 0.145651 seconds\n",
      "┌─────────┬─────────┬─────────┬──────────┬───────┬─────────┬─────────┬──────────┬──────────┐\n",
      "│\u001b[1m       ρ \u001b[0m│\u001b[1m       q \u001b[0m│\u001b[1m  method \u001b[0m│\u001b[1m     time \u001b[0m│\u001b[1m  iter \u001b[0m│\u001b[1m   xnorm \u001b[0m│\u001b[1m   rnorm \u001b[0m│\u001b[1m    objv1 \u001b[0m│\u001b[1m    objv2 \u001b[0m│\n",
      "│\u001b[90m Float64 \u001b[0m│\u001b[90m Float64 \u001b[0m│\u001b[90m  String \u001b[0m│\u001b[90m  Float64 \u001b[0m│\u001b[90m Int64 \u001b[0m│\u001b[90m Float64 \u001b[0m│\u001b[90m Float64 \u001b[0m│\u001b[90m  Float64 \u001b[0m│\u001b[90m  Float64 \u001b[0m│\n",
      "├─────────┼─────────┼─────────┼──────────┼───────┼─────────┼─────────┼──────────┼──────────┤\n",
      "│     0.2 │     0.5 │    MMDW │ 0.191872 │    50 │ 3.40437 │  548.89 │ 0.878698 │ 0.892038 │\n",
      "│     0.2 │     0.5 │ conquer │ 0.182674 │    19 │ 3.40436 │ 548.889 │   0.8787 │ 0.892038 │\n",
      "│     0.2 │     0.5 │   QUBd0 │ 0.149816 │    36 │  3.4044 │ 548.881 │ 0.878699 │ 0.892038 │\n",
      "│     0.2 │     0.5 │   QUBd1 │ 0.150602 │    36 │  3.4044 │ 548.881 │ 0.878699 │ 0.892038 │\n",
      "│     0.2 │     0.5 │   QUBs0 │ 0.138541 │    28 │ 3.40436 │ 548.891 │ 0.878699 │ 0.892038 │\n",
      "│     0.2 │     0.5 │   QUBs1 │ 0.121692 │    22 │ 3.40436 │ 548.891 │ 0.878699 │ 0.892038 │\n",
      "│     0.2 │     0.5 │   QUBt0 │  0.17426 │    38 │  3.4047 │ 548.842 │ 0.877068 │ 0.892388 │\n",
      "│     0.2 │     0.5 │   QUBt1 │ 0.145651 │    30 │ 3.40471 │ 548.842 │ 0.877068 │ 0.892388 │\n",
      "└─────────┴─────────┴─────────┴──────────┴───────┴─────────┴─────────┴──────────┴──────────┘\n"
     ]
    },
    {
     "name": "stderr",
     "output_type": "stream",
     "text": [
      "\u001b[36m\u001b[1m┌ \u001b[22m\u001b[39m\u001b[36m\u001b[1mInfo: \u001b[22m\u001b[39mn=8192 p=1024 ρ=0.2\n",
      "\u001b[36m\u001b[1m│ \u001b[22m\u001b[39m  standardize = true\n",
      "\u001b[36m\u001b[1m└ \u001b[22m\u001b[39m  accel = true\n"
     ]
    },
    {
     "name": "stdout",
     "output_type": "stream",
     "text": [
      "seed:    9999\n",
      "size(X): 8192 × 1024+1\n",
      "cond(X): 2.4616662285129736\n",
      "ρ:       0.2\n",
      "q:       0.5\n",
      "h:       0.4368033761057563\n",
      "\n",
      "    MMDW .......... 0.187006 seconds\n",
      " conquer .......... 0.182843 seconds\n",
      "   QUBd0 .......... 0.149404 seconds\n",
      "   QUBd1 .......... 0.149217 seconds\n",
      "   QUBs0 .......... 0.138442 seconds\n",
      "   QUBs1 .......... 0.120114 seconds\n",
      "   QUBt0 .......... 0.172434 seconds\n",
      "   QUBt1 .......... 0.144596 seconds\n",
      "┌─────────┬─────────┬─────────┬──────────┬───────┬─────────┬─────────┬──────────┬──────────┐\n",
      "│\u001b[1m       ρ \u001b[0m│\u001b[1m       q \u001b[0m│\u001b[1m  method \u001b[0m│\u001b[1m     time \u001b[0m│\u001b[1m  iter \u001b[0m│\u001b[1m   xnorm \u001b[0m│\u001b[1m   rnorm \u001b[0m│\u001b[1m    objv1 \u001b[0m│\u001b[1m    objv2 \u001b[0m│\n",
      "│\u001b[90m Float64 \u001b[0m│\u001b[90m Float64 \u001b[0m│\u001b[90m  String \u001b[0m│\u001b[90m  Float64 \u001b[0m│\u001b[90m Int64 \u001b[0m│\u001b[90m Float64 \u001b[0m│\u001b[90m Float64 \u001b[0m│\u001b[90m  Float64 \u001b[0m│\u001b[90m  Float64 \u001b[0m│\n",
      "├─────────┼─────────┼─────────┼──────────┼───────┼─────────┼─────────┼──────────┼──────────┤\n",
      "│     0.2 │     0.5 │    MMDW │ 0.187006 │    50 │ 3.40105 │  548.89 │ 0.878698 │ 0.892038 │\n",
      "│     0.2 │     0.5 │ conquer │ 0.182843 │    19 │ 3.40105 │ 548.889 │   0.8787 │ 0.892038 │\n",
      "│     0.2 │     0.5 │   QUBd0 │ 0.149404 │    36 │ 3.40109 │ 548.881 │ 0.878699 │ 0.892038 │\n",
      "│     0.2 │     0.5 │   QUBd1 │ 0.149217 │    36 │ 3.40109 │ 548.881 │ 0.878699 │ 0.892038 │\n",
      "│     0.2 │     0.5 │   QUBs0 │ 0.138442 │    28 │ 3.40103 │ 548.891 │   0.8787 │ 0.892038 │\n",
      "│     0.2 │     0.5 │   QUBs1 │ 0.120114 │    22 │ 3.40104 │ 548.891 │ 0.878699 │ 0.892038 │\n",
      "│     0.2 │     0.5 │   QUBt0 │ 0.172434 │    38 │ 3.40136 │ 548.842 │ 0.877068 │ 0.892388 │\n",
      "│     0.2 │     0.5 │   QUBt1 │ 0.144596 │    30 │ 3.40136 │ 548.842 │ 0.877068 │ 0.892388 │\n",
      "└─────────┴─────────┴─────────┴──────────┴───────┴─────────┴─────────┴──────────┴──────────┘\n"
     ]
    }
   ],
   "source": [
    "run_comparison(n, p, q, seed, 0.2, true)"
   ]
  },
  {
   "cell_type": "code",
   "execution_count": 6,
   "id": "465c6b95",
   "metadata": {},
   "outputs": [
    {
     "name": "stderr",
     "output_type": "stream",
     "text": [
      "\u001b[36m\u001b[1m┌ \u001b[22m\u001b[39m\u001b[36m\u001b[1mInfo: \u001b[22m\u001b[39mn=8192 p=1024 ρ=0.95\n",
      "\u001b[36m\u001b[1m│ \u001b[22m\u001b[39m  standardize = false\n",
      "\u001b[36m\u001b[1m└ \u001b[22m\u001b[39m  accel = false\n"
     ]
    },
    {
     "name": "stdout",
     "output_type": "stream",
     "text": [
      "seed:    9999\n",
      "size(X): 8192 × 1024+1\n",
      "cond(X): 51.052783734636634\n",
      "ρ:       0.95\n",
      "q:       0.5\n",
      "h:       0.4368033761057563\n",
      "\n",
      "    MMDW .......... 0.191613 seconds\n",
      " conquer .......... 3.876218 seconds\n",
      "   QUBd0 .......... 0.431503 seconds\n",
      "   QUBd1 .......... 0.44415 seconds\n",
      "   QUBs0 .......... 1.191001 seconds\n",
      "   QUBs1 .......... 0.905315 seconds\n",
      "   QUBt0 .......... 2.010381 seconds\n",
      "   QUBt1 .......... 1.437186 seconds\n",
      "┌─────────┬─────────┬─────────┬──────────┬───────┬─────────┬─────────┬──────────┬──────────┐\n",
      "│\u001b[1m       ρ \u001b[0m│\u001b[1m       q \u001b[0m│\u001b[1m  method \u001b[0m│\u001b[1m     time \u001b[0m│\u001b[1m  iter \u001b[0m│\u001b[1m   xnorm \u001b[0m│\u001b[1m   rnorm \u001b[0m│\u001b[1m    objv1 \u001b[0m│\u001b[1m    objv2 \u001b[0m│\n",
      "│\u001b[90m Float64 \u001b[0m│\u001b[90m Float64 \u001b[0m│\u001b[90m  String \u001b[0m│\u001b[90m  Float64 \u001b[0m│\u001b[90m Int64 \u001b[0m│\u001b[90m Float64 \u001b[0m│\u001b[90m Float64 \u001b[0m│\u001b[90m  Float64 \u001b[0m│\u001b[90m  Float64 \u001b[0m│\n",
      "├─────────┼─────────┼─────────┼──────────┼───────┼─────────┼─────────┼──────────┼──────────┤\n",
      "│    0.95 │     0.5 │    MMDW │ 0.191613 │    50 │ 4.19083 │  548.89 │ 0.878698 │ 0.892038 │\n",
      "│    0.95 │     0.5 │ conquer │  3.87622 │   498 │ 4.19043 │ 548.881 │ 0.878707 │ 0.892039 │\n",
      "│    0.95 │     0.5 │   QUBd0 │ 0.431503 │   105 │ 4.19103 │ 548.881 │ 0.878699 │ 0.892038 │\n",
      "│    0.95 │     0.5 │   QUBd1 │  0.44415 │   104 │ 4.19106 │ 548.881 │ 0.878698 │ 0.892038 │\n",
      "│    0.95 │     0.5 │   QUBs0 │    1.191 │   371 │  4.1905 │  548.89 │ 0.878705 │ 0.892038 │\n",
      "│    0.95 │     0.5 │   QUBs1 │ 0.905315 │   279 │ 4.19052 │ 548.891 │ 0.878703 │ 0.892038 │\n",
      "│    0.95 │     0.5 │   QUBt0 │  2.01038 │   640 │ 4.20002 │  548.84 │ 0.877076 │ 0.892387 │\n",
      "│    0.95 │     0.5 │   QUBt1 │  1.43719 │   465 │ 4.20025 │ 548.845 │ 0.877072 │ 0.892388 │\n",
      "└─────────┴─────────┴─────────┴──────────┴───────┴─────────┴─────────┴──────────┴──────────┘\n"
     ]
    },
    {
     "name": "stderr",
     "output_type": "stream",
     "text": [
      "\u001b[36m\u001b[1m┌ \u001b[22m\u001b[39m\u001b[36m\u001b[1mInfo: \u001b[22m\u001b[39mn=8192 p=1024 ρ=0.95\n",
      "\u001b[36m\u001b[1m│ \u001b[22m\u001b[39m  standardize = true\n",
      "\u001b[36m\u001b[1m└ \u001b[22m\u001b[39m  accel = false\n"
     ]
    },
    {
     "name": "stdout",
     "output_type": "stream",
     "text": [
      "seed:    9999\n",
      "size(X): 8192 × 1024+1\n",
      "cond(X): 51.15407280816808\n",
      "ρ:       0.95\n",
      "q:       0.5\n",
      "h:       0.4368033761057563\n",
      "\n",
      "    MMDW .......... 0.189677 seconds\n",
      " conquer .......... 3.487753 seconds\n",
      "   QUBd0 .......... 0.449924 seconds\n",
      "   QUBd1 .......... 0.44001 seconds\n",
      "   QUBs0 .......... 1.188039 seconds\n",
      "   QUBs1 .......... 0.918775 seconds\n",
      "   QUBt0 .......... 2.008991 seconds\n",
      "   QUBt1 .......... 1.443451 seconds\n",
      "┌─────────┬─────────┬─────────┬──────────┬───────┬─────────┬─────────┬──────────┬──────────┐\n",
      "│\u001b[1m       ρ \u001b[0m│\u001b[1m       q \u001b[0m│\u001b[1m  method \u001b[0m│\u001b[1m     time \u001b[0m│\u001b[1m  iter \u001b[0m│\u001b[1m   xnorm \u001b[0m│\u001b[1m   rnorm \u001b[0m│\u001b[1m    objv1 \u001b[0m│\u001b[1m    objv2 \u001b[0m│\n",
      "│\u001b[90m Float64 \u001b[0m│\u001b[90m Float64 \u001b[0m│\u001b[90m  String \u001b[0m│\u001b[90m  Float64 \u001b[0m│\u001b[90m Int64 \u001b[0m│\u001b[90m Float64 \u001b[0m│\u001b[90m Float64 \u001b[0m│\u001b[90m  Float64 \u001b[0m│\u001b[90m  Float64 \u001b[0m│\n",
      "├─────────┼─────────┼─────────┼──────────┼───────┼─────────┼─────────┼──────────┼──────────┤\n",
      "│    0.95 │     0.5 │    MMDW │ 0.189677 │    50 │ 4.18656 │  548.89 │ 0.878698 │ 0.892038 │\n",
      "│    0.95 │     0.5 │ conquer │  3.48775 │   390 │ 4.18621 │ 548.882 │ 0.878706 │ 0.892039 │\n",
      "│    0.95 │     0.5 │   QUBd0 │ 0.449924 │   105 │ 4.18674 │ 548.881 │ 0.878699 │ 0.892038 │\n",
      "│    0.95 │     0.5 │   QUBd1 │  0.44001 │   102 │ 4.18677 │ 548.881 │ 0.878698 │ 0.892038 │\n",
      "│    0.95 │     0.5 │   QUBs0 │  1.18804 │   375 │ 4.18623 │  548.89 │ 0.878705 │ 0.892038 │\n",
      "│    0.95 │     0.5 │   QUBs1 │ 0.918775 │   279 │ 4.18623 │ 548.891 │ 0.878703 │ 0.892038 │\n",
      "│    0.95 │     0.5 │   QUBt0 │  2.00899 │   643 │ 4.19591 │ 548.839 │ 0.877077 │ 0.892386 │\n",
      "│    0.95 │     0.5 │   QUBt1 │  1.44345 │   467 │ 4.19617 │ 548.844 │ 0.877071 │ 0.892388 │\n",
      "└─────────┴─────────┴─────────┴──────────┴───────┴─────────┴─────────┴──────────┴──────────┘\n"
     ]
    }
   ],
   "source": [
    "run_comparison(n, p, q, seed, 0.95, false)"
   ]
  },
  {
   "cell_type": "code",
   "execution_count": 7,
   "id": "56a875b7",
   "metadata": {},
   "outputs": [
    {
     "name": "stderr",
     "output_type": "stream",
     "text": [
      "\u001b[36m\u001b[1m┌ \u001b[22m\u001b[39m\u001b[36m\u001b[1mInfo: \u001b[22m\u001b[39mn=8192 p=1024 ρ=0.95\n",
      "\u001b[36m\u001b[1m│ \u001b[22m\u001b[39m  standardize = false\n",
      "\u001b[36m\u001b[1m└ \u001b[22m\u001b[39m  accel = true\n"
     ]
    },
    {
     "name": "stdout",
     "output_type": "stream",
     "text": [
      "seed:    9999\n",
      "size(X): 8192 × 1024+1\n",
      "cond(X): 51.052783734636634\n",
      "ρ:       0.95\n",
      "q:       0.5\n",
      "h:       0.4368033761057563\n",
      "\n",
      "    MMDW .......... 0.193547 seconds\n",
      " conquer .......... 3.921223 seconds\n",
      "   QUBd0 .......... 0.289663 seconds\n",
      "   QUBd1 .......... 0.288463 seconds\n",
      "   QUBs0 .......... 1.020989 seconds\n",
      "   QUBs1 .......... 0.861475 seconds\n",
      "   QUBt0 .......... 0.09811 seconds\n",
      "   QUBt1 .......... 1.223369 seconds\n",
      "┌─────────┬─────────┬─────────┬───────────┬───────┬─────────┬─────────┬──────────┬──────────┐\n",
      "│\u001b[1m       ρ \u001b[0m│\u001b[1m       q \u001b[0m│\u001b[1m  method \u001b[0m│\u001b[1m      time \u001b[0m│\u001b[1m  iter \u001b[0m│\u001b[1m   xnorm \u001b[0m│\u001b[1m   rnorm \u001b[0m│\u001b[1m    objv1 \u001b[0m│\u001b[1m    objv2 \u001b[0m│\n",
      "│\u001b[90m Float64 \u001b[0m│\u001b[90m Float64 \u001b[0m│\u001b[90m  String \u001b[0m│\u001b[90m   Float64 \u001b[0m│\u001b[90m Int64 \u001b[0m│\u001b[90m Float64 \u001b[0m│\u001b[90m Float64 \u001b[0m│\u001b[90m  Float64 \u001b[0m│\u001b[90m  Float64 \u001b[0m│\n",
      "├─────────┼─────────┼─────────┼───────────┼───────┼─────────┼─────────┼──────────┼──────────┤\n",
      "│    0.95 │     0.5 │    MMDW │  0.193547 │    50 │ 4.19083 │  548.89 │ 0.878698 │ 0.892038 │\n",
      "│    0.95 │     0.5 │ conquer │   3.92122 │   498 │ 4.19043 │ 548.881 │ 0.878707 │ 0.892039 │\n",
      "│    0.95 │     0.5 │   QUBd0 │  0.289663 │    65 │ 4.19106 │ 548.889 │ 0.878699 │ 0.892038 │\n",
      "│    0.95 │     0.5 │   QUBd1 │  0.288463 │    66 │ 4.19098 │ 548.889 │ 0.878699 │ 0.892038 │\n",
      "│    0.95 │     0.5 │   QUBs0 │   1.02099 │   315 │ 4.19036 │ 548.893 │ 0.878706 │ 0.892039 │\n",
      "│    0.95 │     0.5 │   QUBs1 │  0.861475 │   259 │ 4.19048 │ 548.891 │ 0.878704 │ 0.892038 │\n",
      "│    0.95 │     0.5 │   QUBt0 │ 0.0981098 │     8 │ 10.2488 │ 519.853 │  1.21051 │  1.21579 │\n",
      "│    0.95 │     0.5 │   QUBt1 │   1.22337 │   372 │ 4.19973 │ 548.836 │ 0.877074 │ 0.892389 │\n",
      "└─────────┴─────────┴─────────┴───────────┴───────┴─────────┴─────────┴──────────┴──────────┘\n"
     ]
    },
    {
     "name": "stderr",
     "output_type": "stream",
     "text": [
      "\u001b[36m\u001b[1m┌ \u001b[22m\u001b[39m\u001b[36m\u001b[1mInfo: \u001b[22m\u001b[39mn=8192 p=1024 ρ=0.95\n",
      "\u001b[36m\u001b[1m│ \u001b[22m\u001b[39m  standardize = true\n",
      "\u001b[36m\u001b[1m└ \u001b[22m\u001b[39m  accel = true\n"
     ]
    },
    {
     "name": "stdout",
     "output_type": "stream",
     "text": [
      "seed:    9999\n",
      "size(X): 8192 × 1024+1\n",
      "cond(X): 51.15407280816808\n",
      "ρ:       0.95\n",
      "q:       0.5\n",
      "h:       0.4368033761057563\n",
      "\n",
      "    MMDW .......... 0.192847 seconds\n",
      " conquer .......... 3.485949 seconds\n",
      "   QUBd0 .......... 0.287179 seconds\n",
      "   QUBd1 .......... 0.287528 seconds\n",
      "   QUBs0 .......... 1.039179 seconds\n",
      "   QUBs1 .......... 0.86094 seconds\n",
      "   QUBt0 .......... 0.100108 seconds\n",
      "   QUBt1 .......... 1.221033 seconds\n",
      "┌─────────┬─────────┬─────────┬──────────┬───────┬─────────┬─────────┬──────────┬──────────┐\n",
      "│\u001b[1m       ρ \u001b[0m│\u001b[1m       q \u001b[0m│\u001b[1m  method \u001b[0m│\u001b[1m     time \u001b[0m│\u001b[1m  iter \u001b[0m│\u001b[1m   xnorm \u001b[0m│\u001b[1m   rnorm \u001b[0m│\u001b[1m    objv1 \u001b[0m│\u001b[1m    objv2 \u001b[0m│\n",
      "│\u001b[90m Float64 \u001b[0m│\u001b[90m Float64 \u001b[0m│\u001b[90m  String \u001b[0m│\u001b[90m  Float64 \u001b[0m│\u001b[90m Int64 \u001b[0m│\u001b[90m Float64 \u001b[0m│\u001b[90m Float64 \u001b[0m│\u001b[90m  Float64 \u001b[0m│\u001b[90m  Float64 \u001b[0m│\n",
      "├─────────┼─────────┼─────────┼──────────┼───────┼─────────┼─────────┼──────────┼──────────┤\n",
      "│    0.95 │     0.5 │    MMDW │ 0.192847 │    50 │ 4.18656 │  548.89 │ 0.878698 │ 0.892038 │\n",
      "│    0.95 │     0.5 │ conquer │  3.48595 │   390 │ 4.18621 │ 548.882 │ 0.878706 │ 0.892039 │\n",
      "│    0.95 │     0.5 │   QUBd0 │ 0.287179 │    65 │ 4.18678 │ 548.889 │ 0.878699 │ 0.892038 │\n",
      "│    0.95 │     0.5 │   QUBd1 │ 0.287528 │    65 │ 4.18674 │ 548.889 │ 0.878699 │ 0.892038 │\n",
      "│    0.95 │     0.5 │   QUBs0 │  1.03918 │   314 │ 4.18611 │ 548.884 │ 0.878706 │ 0.892039 │\n",
      "│    0.95 │     0.5 │   QUBs1 │  0.86094 │   251 │ 4.18611 │ 548.888 │ 0.878704 │ 0.892038 │\n",
      "│    0.95 │     0.5 │   QUBt0 │ 0.100108 │     9 │ 10.2275 │ 519.887 │  1.21018 │  1.21548 │\n",
      "│    0.95 │     0.5 │   QUBt1 │  1.22103 │   359 │ 4.19548 │ 548.838 │ 0.877077 │ 0.892388 │\n",
      "└─────────┴─────────┴─────────┴──────────┴───────┴─────────┴─────────┴──────────┴──────────┘\n"
     ]
    }
   ],
   "source": [
    "run_comparison(n, p, q, seed, 0.95, true)"
   ]
  }
 ],
 "metadata": {
  "kernelspec": {
   "display_name": "Julia 1.10.10",
   "language": "julia",
   "name": "julia-1.10"
  },
  "language_info": {
   "file_extension": ".jl",
   "mimetype": "application/julia",
   "name": "julia",
   "version": "1.10.10"
  }
 },
 "nbformat": 4,
 "nbformat_minor": 5
}
